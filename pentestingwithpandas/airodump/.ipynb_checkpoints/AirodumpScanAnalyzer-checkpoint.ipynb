{
 "cells": [
  {
   "cell_type": "markdown",
   "metadata": {},
   "source": [
    "# Airodump-NG Scan CSV Analyzer\n",
    "\n",
    "We will be using the CSV file created by Airodump-NG to analyze the Wi-Fi network. \n",
    "\n",
    "If you are interested in learning more about the tools used in this notebook (Pandas, Matplotlib etc.) then have a look at our courses on http://PentesterAcademy.com/topics\n",
    "\n",
    "The notebook analysis is divided into 2 sections:\n",
    "* Access Point analysis\n",
    "* Client analysis\n",
    "\n",
    "\n",
    "## 1. Access Point analysis\n",
    "\n",
    "Using the CSV we will try to answer the following questions:\n",
    "\n",
    "* Which are the unique SSIDs?\n",
    "* Are there any hidden SSID networks around?\n",
    "* How many APs of each SSID?\n",
    "* Which channels are most occupied?\n",
    "* How is each SSID's APs spread across the channels?\n",
    "* Which manufacturers of Wi-Fi cards are most popular?\n",
    "* Which channels does the AAAAA networks use?\n",
    "* Which vendor's AP does the AAAAA network use most?\n",
    "* How is the security posture of the AAAAA network?\n",
    "* When were each of the APs of AAAAA network discovered?\n",
    "* Which APs of AAAAA is closest to us? \n",
    "\n",
    "## 2. Client analysis\n",
    "\n",
    "* Unique list of probed SSIDs?\n",
    "* Most probed SSID?\n",
    "* Which client has the longest probed SSID list?\n",
    "* How many clients are connected vs roaming?\n",
    "* Understanding distribution of clients and APs\n",
    "\n",
    "### So let the games begin! :)   \n",
    "\n",
    "\n"
   ]
  },
  {
   "cell_type": "code",
   "execution_count": 1,
   "metadata": {},
   "outputs": [],
   "source": [
    "%matplotlib inline\n",
    "import matplotlib.pyplot as plt \n",
    "import pandas as pd\n",
    "import numpy as np\n",
    "\n",
    "# pip install netaddr\n",
    "import netaddr \n",
    "\n",
    "# pip install seaborn\n",
    "import seaborn as sns\n",
    "sns.set_color_codes(palette='deep')\n",
    "\n",
    "\n",
    "# Try out other available styles \n",
    "# https://tonysyu.github.io/raw_content/matplotlib-style-gallery/gallery.html\n"
   ]
  },
  {
   "cell_type": "markdown",
   "metadata": {},
   "source": [
    "### Parsing the CSV file to separate the AP and Client sections"
   ]
  },
  {
   "cell_type": "code",
   "execution_count": 2,
   "metadata": {},
   "outputs": [],
   "source": [
    "airodump_csv = open('bu.csv', 'r').read()"
   ]
  },
  {
   "cell_type": "code",
   "execution_count": 3,
   "metadata": {},
   "outputs": [],
   "source": [
    "client_header = 'Station MAC, First time seen, Last time seen, Power, # packets, BSSID, Probed ESSIDs'\n",
    "\n",
    "hdi = airodump_csv.index(client_header)\n"
   ]
  },
  {
   "cell_type": "code",
   "execution_count": 5,
   "metadata": {},
   "outputs": [],
   "source": [
    "from io import StringIO\n",
    "## for sream io \n",
    "ap_csv = StringIO(airodump_csv[:hdi])\n",
    "\n",
    "client_csv = StringIO(airodump_csv[hdi:])\n"
   ]
  },
  {
   "cell_type": "code",
   "execution_count": 6,
   "metadata": {},
   "outputs": [],
   "source": [
    "ap_df = pd.read_csv(ap_csv, \n",
    "                   sep=',', \n",
    "                   skipinitialspace=True,\n",
    "                    parse_dates = ['First time seen', 'Last time seen']\n",
    "                   )"
   ]
  },
  {
   "cell_type": "code",
   "execution_count": 7,
   "metadata": {},
   "outputs": [],
   "source": [
    "client_df = pd.read_csv(client_csv,\n",
    "                        sep=', ',\n",
    "                        skipinitialspace=True,\n",
    "                        engine='python',\n",
    "                        parse_dates = ['First time seen', 'Last time seen']\n",
    "                       )"
   ]
  },
  {
   "cell_type": "markdown",
   "metadata": {},
   "source": [
    "### Let's make sure we have read everything properly"
   ]
  },
  {
   "cell_type": "code",
   "execution_count": 8,
   "metadata": {},
   "outputs": [
    {
     "data": {
      "text/html": [
       "<div>\n",
       "<style scoped>\n",
       "    .dataframe tbody tr th:only-of-type {\n",
       "        vertical-align: middle;\n",
       "    }\n",
       "\n",
       "    .dataframe tbody tr th {\n",
       "        vertical-align: top;\n",
       "    }\n",
       "\n",
       "    .dataframe thead th {\n",
       "        text-align: right;\n",
       "    }\n",
       "</style>\n",
       "<table border=\"1\" class=\"dataframe\">\n",
       "  <thead>\n",
       "    <tr style=\"text-align: right;\">\n",
       "      <th></th>\n",
       "      <th>BSSID</th>\n",
       "      <th>First time seen</th>\n",
       "      <th>Last time seen</th>\n",
       "      <th>channel</th>\n",
       "      <th>Speed</th>\n",
       "      <th>Privacy</th>\n",
       "      <th>Cipher</th>\n",
       "      <th>Authentication</th>\n",
       "      <th>Power</th>\n",
       "      <th># beacons</th>\n",
       "      <th># IV</th>\n",
       "      <th>LAN IP</th>\n",
       "      <th>ID-length</th>\n",
       "      <th>ESSID</th>\n",
       "      <th>Key</th>\n",
       "    </tr>\n",
       "  </thead>\n",
       "  <tbody>\n",
       "    <tr>\n",
       "      <th>0</th>\n",
       "      <td>10:8C:CF:EA:C2:40</td>\n",
       "      <td>2015-02-11 11:41:38</td>\n",
       "      <td>2015-02-11 11:41:42</td>\n",
       "      <td>6</td>\n",
       "      <td>54</td>\n",
       "      <td>WPA2</td>\n",
       "      <td>CCMP</td>\n",
       "      <td>MGT</td>\n",
       "      <td>-47</td>\n",
       "      <td>0</td>\n",
       "      <td>0</td>\n",
       "      <td>0.  0.  0.  0</td>\n",
       "      <td>6</td>\n",
       "      <td>bloomu</td>\n",
       "      <td>NaN</td>\n",
       "    </tr>\n",
       "  </tbody>\n",
       "</table>\n",
       "</div>"
      ],
      "text/plain": [
       "               BSSID     First time seen      Last time seen  channel  Speed  \\\n",
       "0  10:8C:CF:EA:C2:40 2015-02-11 11:41:38 2015-02-11 11:41:42        6     54   \n",
       "\n",
       "  Privacy Cipher Authentication  Power  # beacons  # IV         LAN IP  \\\n",
       "0    WPA2   CCMP            MGT    -47          0     0  0.  0.  0.  0   \n",
       "\n",
       "   ID-length   ESSID  Key  \n",
       "0          6  bloomu  NaN  "
      ]
     },
     "execution_count": 8,
     "metadata": {},
     "output_type": "execute_result"
    }
   ],
   "source": [
    "ap_df.head(1)"
   ]
  },
  {
   "cell_type": "code",
   "execution_count": 9,
   "metadata": {},
   "outputs": [
    {
     "data": {
      "text/html": [
       "<div>\n",
       "<style scoped>\n",
       "    .dataframe tbody tr th:only-of-type {\n",
       "        vertical-align: middle;\n",
       "    }\n",
       "\n",
       "    .dataframe tbody tr th {\n",
       "        vertical-align: top;\n",
       "    }\n",
       "\n",
       "    .dataframe thead th {\n",
       "        text-align: right;\n",
       "    }\n",
       "</style>\n",
       "<table border=\"1\" class=\"dataframe\">\n",
       "  <thead>\n",
       "    <tr style=\"text-align: right;\">\n",
       "      <th></th>\n",
       "      <th>Station MAC</th>\n",
       "      <th>First time seen</th>\n",
       "      <th>Last time seen</th>\n",
       "      <th>Power</th>\n",
       "      <th># packets</th>\n",
       "      <th>BSSID</th>\n",
       "      <th>Probed ESSIDs</th>\n",
       "    </tr>\n",
       "  </thead>\n",
       "  <tbody>\n",
       "    <tr>\n",
       "      <th>0</th>\n",
       "      <td>6C:71:D9:D4:15:2B</td>\n",
       "      <td>2015-02-11 11:40:45</td>\n",
       "      <td>2015-02-11 11:42:00</td>\n",
       "      <td>-26</td>\n",
       "      <td>7</td>\n",
       "      <td>10:8C:CF:EA:C0:5B</td>\n",
       "      <td>bloomu-secure</td>\n",
       "    </tr>\n",
       "  </tbody>\n",
       "</table>\n",
       "</div>"
      ],
      "text/plain": [
       "         Station MAC     First time seen      Last time seen  Power  \\\n",
       "0  6C:71:D9:D4:15:2B 2015-02-11 11:40:45 2015-02-11 11:42:00    -26   \n",
       "\n",
       "   # packets              BSSID  Probed ESSIDs  \n",
       "0          7  10:8C:CF:EA:C0:5B  bloomu-secure  "
      ]
     },
     "execution_count": 9,
     "metadata": {},
     "output_type": "execute_result"
    }
   ],
   "source": [
    "client_df.head(1)"
   ]
  },
  {
   "cell_type": "code",
   "execution_count": 10,
   "metadata": {},
   "outputs": [
    {
     "data": {
      "text/plain": [
       "BSSID                      object\n",
       "First time seen    datetime64[ns]\n",
       "Last time seen     datetime64[ns]\n",
       "channel                     int64\n",
       "Speed                       int64\n",
       "Privacy                    object\n",
       "Cipher                     object\n",
       "Authentication             object\n",
       "Power                       int64\n",
       "# beacons                   int64\n",
       "# IV                        int64\n",
       "LAN IP                     object\n",
       "ID-length                   int64\n",
       "ESSID                      object\n",
       "Key                       float64\n",
       "dtype: object"
      ]
     },
     "execution_count": 10,
     "metadata": {},
     "output_type": "execute_result"
    }
   ],
   "source": [
    "ap_df.dtypes"
   ]
  },
  {
   "cell_type": "code",
   "execution_count": 11,
   "metadata": {},
   "outputs": [
    {
     "data": {
      "text/plain": [
       "Station MAC                object\n",
       "First time seen    datetime64[ns]\n",
       "Last time seen     datetime64[ns]\n",
       "Power                       int64\n",
       "# packets                   int64\n",
       "BSSID                      object\n",
       "Probed ESSIDs              object\n",
       "dtype: object"
      ]
     },
     "execution_count": 11,
     "metadata": {},
     "output_type": "execute_result"
    }
   ],
   "source": [
    "client_df.dtypes"
   ]
  },
  {
   "cell_type": "markdown",
   "metadata": {},
   "source": [
    "## AP Analysis\n",
    "\n",
    "Let us cleanup the column names so its easier to work with them."
   ]
  },
  {
   "cell_type": "code",
   "execution_count": 12,
   "metadata": {},
   "outputs": [
    {
     "data": {
      "text/plain": [
       "Index(['BSSID', 'First time seen', 'Last time seen', 'channel', 'Speed',\n",
       "       'Privacy', 'Cipher', 'Authentication', 'Power', '# beacons', '# IV',\n",
       "       'LAN IP', 'ID-length', 'ESSID', 'Key'],\n",
       "      dtype='object')"
      ]
     },
     "execution_count": 12,
     "metadata": {},
     "output_type": "execute_result"
    }
   ],
   "source": [
    "ap_df.columns"
   ]
  },
  {
   "cell_type": "code",
   "execution_count": 13,
   "metadata": {},
   "outputs": [
    {
     "data": {
      "text/html": [
       "<div>\n",
       "<style scoped>\n",
       "    .dataframe tbody tr th:only-of-type {\n",
       "        vertical-align: middle;\n",
       "    }\n",
       "\n",
       "    .dataframe tbody tr th {\n",
       "        vertical-align: top;\n",
       "    }\n",
       "\n",
       "    .dataframe thead th {\n",
       "        text-align: right;\n",
       "    }\n",
       "</style>\n",
       "<table border=\"1\" class=\"dataframe\">\n",
       "  <thead>\n",
       "    <tr style=\"text-align: right;\">\n",
       "      <th></th>\n",
       "      <th>bssid</th>\n",
       "      <th>firstseen</th>\n",
       "      <th>lastseen</th>\n",
       "      <th>channel</th>\n",
       "      <th>speed</th>\n",
       "      <th>privacy</th>\n",
       "      <th>cipher</th>\n",
       "      <th>authentication</th>\n",
       "      <th>dbpower</th>\n",
       "      <th>beacons</th>\n",
       "      <th>iv</th>\n",
       "      <th>ip</th>\n",
       "      <th>idlen</th>\n",
       "      <th>essid</th>\n",
       "      <th>key</th>\n",
       "    </tr>\n",
       "  </thead>\n",
       "  <tbody>\n",
       "    <tr>\n",
       "      <th>0</th>\n",
       "      <td>10:8C:CF:EA:C2:40</td>\n",
       "      <td>2015-02-11 11:41:38</td>\n",
       "      <td>2015-02-11 11:41:42</td>\n",
       "      <td>6</td>\n",
       "      <td>54</td>\n",
       "      <td>WPA2</td>\n",
       "      <td>CCMP</td>\n",
       "      <td>MGT</td>\n",
       "      <td>-47</td>\n",
       "      <td>0</td>\n",
       "      <td>0</td>\n",
       "      <td>0.  0.  0.  0</td>\n",
       "      <td>6</td>\n",
       "      <td>bloomu</td>\n",
       "      <td>NaN</td>\n",
       "    </tr>\n",
       "    <tr>\n",
       "      <th>1</th>\n",
       "      <td>00:1C:F9:C1:EF:AA</td>\n",
       "      <td>2015-02-11 11:32:34</td>\n",
       "      <td>2015-02-11 11:41:01</td>\n",
       "      <td>1</td>\n",
       "      <td>54</td>\n",
       "      <td>OPN</td>\n",
       "      <td>NaN</td>\n",
       "      <td>NaN</td>\n",
       "      <td>-35</td>\n",
       "      <td>2</td>\n",
       "      <td>0</td>\n",
       "      <td>0.  0.  0.  0</td>\n",
       "      <td>11</td>\n",
       "      <td>bloomu-open</td>\n",
       "      <td>NaN</td>\n",
       "    </tr>\n",
       "  </tbody>\n",
       "</table>\n",
       "</div>"
      ],
      "text/plain": [
       "               bssid           firstseen            lastseen  channel  speed  \\\n",
       "0  10:8C:CF:EA:C2:40 2015-02-11 11:41:38 2015-02-11 11:41:42        6     54   \n",
       "1  00:1C:F9:C1:EF:AA 2015-02-11 11:32:34 2015-02-11 11:41:01        1     54   \n",
       "\n",
       "  privacy cipher authentication  dbpower  beacons  iv             ip  idlen  \\\n",
       "0    WPA2   CCMP            MGT      -47        0   0  0.  0.  0.  0      6   \n",
       "1    OPN     NaN            NaN      -35        2   0  0.  0.  0.  0     11   \n",
       "\n",
       "         essid  key  \n",
       "0       bloomu  NaN  \n",
       "1  bloomu-open  NaN  "
      ]
     },
     "execution_count": 13,
     "metadata": {},
     "output_type": "execute_result"
    }
   ],
   "source": [
    "ap_df.rename(columns={\n",
    "        'BSSID' : 'bssid',\n",
    "        'First time seen' : 'firstseen',\n",
    "        'Last time seen' : 'lastseen',\n",
    "        'channel' : 'channel',\n",
    "        'Speed' : 'speed',\n",
    "        'Privacy' : 'privacy',\n",
    "        'Cipher' : 'cipher',\n",
    "        'Authentication' : 'authentication',\n",
    "        'Power' : 'dbpower',\n",
    "        '# beacons' : 'beacons',\n",
    "        '# IV' : 'iv',\n",
    "        'LAN IP' : 'ip',\n",
    "        'ID-length' : 'idlen',\n",
    "        'ESSID' : 'essid',\n",
    "        'Key' : 'key'\n",
    "    }, inplace=True)\n",
    "\n",
    "ap_df.head(2)"
   ]
  },
  {
   "cell_type": "code",
   "execution_count": 14,
   "metadata": {},
   "outputs": [
    {
     "data": {
      "text/plain": [
       "Index(['bssid', 'firstseen', 'lastseen', 'channel', 'speed', 'privacy',\n",
       "       'cipher', 'authentication', 'dbpower', 'beacons', 'iv', 'ip', 'idlen',\n",
       "       'essid', 'key'],\n",
       "      dtype='object')"
      ]
     },
     "execution_count": 14,
     "metadata": {},
     "output_type": "execute_result"
    }
   ],
   "source": [
    "ap_df.columns"
   ]
  },
  {
   "cell_type": "markdown",
   "metadata": {},
   "source": [
    "### Which are the unique SSIDs?"
   ]
  },
  {
   "cell_type": "code",
   "execution_count": 15,
   "metadata": {},
   "outputs": [
    {
     "data": {
      "text/plain": [
       "{'HP-Print-86-ENVY 5530 series',\n",
       " 'NETGEAR',\n",
       " 'SETUP',\n",
       " 'airportthru',\n",
       " 'bloomu',\n",
       " 'bloomu-open',\n",
       " 'bloomu-psk',\n",
       " 'bloomu-secure',\n",
       " 'gryffindor',\n",
       " 'hpsetup',\n",
       " 'jlinkwireless',\n",
       " 'mikesuckz',\n",
       " nan,\n",
       " 'saturn'}"
      ]
     },
     "execution_count": 15,
     "metadata": {},
     "output_type": "execute_result"
    }
   ],
   "source": [
    "set(ap_df.essid)"
   ]
  },
  {
   "cell_type": "markdown",
   "metadata": {},
   "source": [
    "As you can see the value is \"nan\" which is not an SSID but rather \"not a number\". This shows us that some of the SSID values do not exist."
   ]
  },
  {
   "cell_type": "markdown",
   "metadata": {},
   "source": [
    "### Are there any Hidden SSID networks around?"
   ]
  },
  {
   "cell_type": "code",
   "execution_count": 18,
   "metadata": {},
   "outputs": [
    {
     "data": {
      "text/html": [
       "<div>\n",
       "<style scoped>\n",
       "    .dataframe tbody tr th:only-of-type {\n",
       "        vertical-align: middle;\n",
       "    }\n",
       "\n",
       "    .dataframe tbody tr th {\n",
       "        vertical-align: top;\n",
       "    }\n",
       "\n",
       "    .dataframe thead th {\n",
       "        text-align: right;\n",
       "    }\n",
       "</style>\n",
       "<table border=\"1\" class=\"dataframe\">\n",
       "  <thead>\n",
       "    <tr style=\"text-align: right;\">\n",
       "      <th></th>\n",
       "      <th>bssid</th>\n",
       "      <th>firstseen</th>\n",
       "      <th>lastseen</th>\n",
       "      <th>channel</th>\n",
       "      <th>speed</th>\n",
       "      <th>privacy</th>\n",
       "      <th>cipher</th>\n",
       "      <th>authentication</th>\n",
       "      <th>dbpower</th>\n",
       "      <th>beacons</th>\n",
       "      <th>iv</th>\n",
       "      <th>ip</th>\n",
       "      <th>idlen</th>\n",
       "      <th>essid</th>\n",
       "      <th>key</th>\n",
       "    </tr>\n",
       "  </thead>\n",
       "  <tbody>\n",
       "    <tr>\n",
       "      <th>31</th>\n",
       "      <td>10:8C:CF:39:37:A0</td>\n",
       "      <td>2015-02-11 11:35:09</td>\n",
       "      <td>2015-02-11 11:36:09</td>\n",
       "      <td>6</td>\n",
       "      <td>-1</td>\n",
       "      <td>OPN</td>\n",
       "      <td>NaN</td>\n",
       "      <td>NaN</td>\n",
       "      <td>-1</td>\n",
       "      <td>0</td>\n",
       "      <td>2</td>\n",
       "      <td>0.  0.  0.  0</td>\n",
       "      <td>0</td>\n",
       "      <td>NaN</td>\n",
       "      <td>NaN</td>\n",
       "    </tr>\n",
       "    <tr>\n",
       "      <th>33</th>\n",
       "      <td>58:BC:27:13:8A:A0</td>\n",
       "      <td>2015-02-11 11:33:02</td>\n",
       "      <td>2015-02-11 11:36:01</td>\n",
       "      <td>6</td>\n",
       "      <td>-1</td>\n",
       "      <td>OPN</td>\n",
       "      <td>NaN</td>\n",
       "      <td>NaN</td>\n",
       "      <td>-1</td>\n",
       "      <td>0</td>\n",
       "      <td>2</td>\n",
       "      <td>0.  0.  0.  0</td>\n",
       "      <td>0</td>\n",
       "      <td>NaN</td>\n",
       "      <td>NaN</td>\n",
       "    </tr>\n",
       "    <tr>\n",
       "      <th>42</th>\n",
       "      <td>E8:04:62:0A:32:C0</td>\n",
       "      <td>2015-02-11 11:33:50</td>\n",
       "      <td>2015-02-11 11:35:49</td>\n",
       "      <td>6</td>\n",
       "      <td>-1</td>\n",
       "      <td>OPN</td>\n",
       "      <td>NaN</td>\n",
       "      <td>NaN</td>\n",
       "      <td>-1</td>\n",
       "      <td>0</td>\n",
       "      <td>3</td>\n",
       "      <td>0.  0.  0.  0</td>\n",
       "      <td>0</td>\n",
       "      <td>NaN</td>\n",
       "      <td>NaN</td>\n",
       "    </tr>\n",
       "    <tr>\n",
       "      <th>43</th>\n",
       "      <td>10:8C:CF:45:47:00</td>\n",
       "      <td>2015-02-11 11:33:34</td>\n",
       "      <td>2015-02-11 11:33:51</td>\n",
       "      <td>6</td>\n",
       "      <td>-1</td>\n",
       "      <td>OPN</td>\n",
       "      <td>NaN</td>\n",
       "      <td>NaN</td>\n",
       "      <td>-52</td>\n",
       "      <td>0</td>\n",
       "      <td>2</td>\n",
       "      <td>0.  0.  0.  0</td>\n",
       "      <td>0</td>\n",
       "      <td>NaN</td>\n",
       "      <td>NaN</td>\n",
       "    </tr>\n",
       "    <tr>\n",
       "      <th>46</th>\n",
       "      <td>DC:7B:94:87:91:30</td>\n",
       "      <td>2015-02-11 11:31:56</td>\n",
       "      <td>2015-02-11 11:31:59</td>\n",
       "      <td>6</td>\n",
       "      <td>-1</td>\n",
       "      <td>NaN</td>\n",
       "      <td>NaN</td>\n",
       "      <td>NaN</td>\n",
       "      <td>-1</td>\n",
       "      <td>0</td>\n",
       "      <td>0</td>\n",
       "      <td>0.  0.  0.  0</td>\n",
       "      <td>0</td>\n",
       "      <td>NaN</td>\n",
       "      <td>NaN</td>\n",
       "    </tr>\n",
       "    <tr>\n",
       "      <th>161</th>\n",
       "      <td>E8:04:62:0A:30:FB</td>\n",
       "      <td>2015-02-11 11:32:21</td>\n",
       "      <td>2015-02-11 11:33:04</td>\n",
       "      <td>6</td>\n",
       "      <td>-1</td>\n",
       "      <td>NaN</td>\n",
       "      <td>NaN</td>\n",
       "      <td>NaN</td>\n",
       "      <td>-1</td>\n",
       "      <td>0</td>\n",
       "      <td>0</td>\n",
       "      <td>0.  0.  0.  0</td>\n",
       "      <td>0</td>\n",
       "      <td>NaN</td>\n",
       "      <td>NaN</td>\n",
       "    </tr>\n",
       "    <tr>\n",
       "      <th>162</th>\n",
       "      <td>0A:27:22:75:A5:CD</td>\n",
       "      <td>2015-02-11 11:32:20</td>\n",
       "      <td>2015-02-11 11:34:36</td>\n",
       "      <td>6</td>\n",
       "      <td>54</td>\n",
       "      <td>WPA2WPA</td>\n",
       "      <td>CCMP TKIP</td>\n",
       "      <td>PSK</td>\n",
       "      <td>-60</td>\n",
       "      <td>11</td>\n",
       "      <td>0</td>\n",
       "      <td>0.  0.  0.  0</td>\n",
       "      <td>0</td>\n",
       "      <td>NaN</td>\n",
       "      <td>NaN</td>\n",
       "    </tr>\n",
       "    <tr>\n",
       "      <th>183</th>\n",
       "      <td>40:F4:EC:DB:22:E0</td>\n",
       "      <td>2015-02-11 11:32:50</td>\n",
       "      <td>2015-02-11 11:36:07</td>\n",
       "      <td>6</td>\n",
       "      <td>-1</td>\n",
       "      <td>NaN</td>\n",
       "      <td>NaN</td>\n",
       "      <td>NaN</td>\n",
       "      <td>-1</td>\n",
       "      <td>0</td>\n",
       "      <td>0</td>\n",
       "      <td>0.  0.  0.  0</td>\n",
       "      <td>0</td>\n",
       "      <td>NaN</td>\n",
       "      <td>NaN</td>\n",
       "    </tr>\n",
       "    <tr>\n",
       "      <th>184</th>\n",
       "      <td>E8:04:62:0A:27:80</td>\n",
       "      <td>2015-02-11 11:32:28</td>\n",
       "      <td>2015-02-11 11:36:27</td>\n",
       "      <td>6</td>\n",
       "      <td>-1</td>\n",
       "      <td>OPN</td>\n",
       "      <td>NaN</td>\n",
       "      <td>NaN</td>\n",
       "      <td>-1</td>\n",
       "      <td>0</td>\n",
       "      <td>2</td>\n",
       "      <td>0.  0.  0.  0</td>\n",
       "      <td>0</td>\n",
       "      <td>NaN</td>\n",
       "      <td>NaN</td>\n",
       "    </tr>\n",
       "    <tr>\n",
       "      <th>196</th>\n",
       "      <td>40:F4:EC:DA:F9:C0</td>\n",
       "      <td>2015-02-11 11:36:52</td>\n",
       "      <td>2015-02-11 11:37:06</td>\n",
       "      <td>6</td>\n",
       "      <td>-1</td>\n",
       "      <td>NaN</td>\n",
       "      <td>NaN</td>\n",
       "      <td>NaN</td>\n",
       "      <td>-1</td>\n",
       "      <td>0</td>\n",
       "      <td>0</td>\n",
       "      <td>0.  0.  0.  0</td>\n",
       "      <td>0</td>\n",
       "      <td>NaN</td>\n",
       "      <td>NaN</td>\n",
       "    </tr>\n",
       "    <tr>\n",
       "      <th>249</th>\n",
       "      <td>00:25:00:FF:94:73</td>\n",
       "      <td>2015-02-11 11:30:56</td>\n",
       "      <td>2015-02-11 11:42:49</td>\n",
       "      <td>6</td>\n",
       "      <td>-1</td>\n",
       "      <td>OPN</td>\n",
       "      <td>NaN</td>\n",
       "      <td>NaN</td>\n",
       "      <td>-1</td>\n",
       "      <td>0</td>\n",
       "      <td>3</td>\n",
       "      <td>0.  0.  0.  0</td>\n",
       "      <td>0</td>\n",
       "      <td>NaN</td>\n",
       "      <td>NaN</td>\n",
       "    </tr>\n",
       "  </tbody>\n",
       "</table>\n",
       "</div>"
      ],
      "text/plain": [
       "                 bssid           firstseen            lastseen  channel  \\\n",
       "31   10:8C:CF:39:37:A0 2015-02-11 11:35:09 2015-02-11 11:36:09        6   \n",
       "33   58:BC:27:13:8A:A0 2015-02-11 11:33:02 2015-02-11 11:36:01        6   \n",
       "42   E8:04:62:0A:32:C0 2015-02-11 11:33:50 2015-02-11 11:35:49        6   \n",
       "43   10:8C:CF:45:47:00 2015-02-11 11:33:34 2015-02-11 11:33:51        6   \n",
       "46   DC:7B:94:87:91:30 2015-02-11 11:31:56 2015-02-11 11:31:59        6   \n",
       "161  E8:04:62:0A:30:FB 2015-02-11 11:32:21 2015-02-11 11:33:04        6   \n",
       "162  0A:27:22:75:A5:CD 2015-02-11 11:32:20 2015-02-11 11:34:36        6   \n",
       "183  40:F4:EC:DB:22:E0 2015-02-11 11:32:50 2015-02-11 11:36:07        6   \n",
       "184  E8:04:62:0A:27:80 2015-02-11 11:32:28 2015-02-11 11:36:27        6   \n",
       "196  40:F4:EC:DA:F9:C0 2015-02-11 11:36:52 2015-02-11 11:37:06        6   \n",
       "249  00:25:00:FF:94:73 2015-02-11 11:30:56 2015-02-11 11:42:49        6   \n",
       "\n",
       "     speed   privacy     cipher authentication  dbpower  beacons  iv  \\\n",
       "31      -1      OPN         NaN            NaN       -1        0   2   \n",
       "33      -1      OPN         NaN            NaN       -1        0   2   \n",
       "42      -1      OPN         NaN            NaN       -1        0   3   \n",
       "43      -1      OPN         NaN            NaN      -52        0   2   \n",
       "46      -1       NaN        NaN            NaN       -1        0   0   \n",
       "161     -1       NaN        NaN            NaN       -1        0   0   \n",
       "162     54  WPA2WPA   CCMP TKIP            PSK      -60       11   0   \n",
       "183     -1       NaN        NaN            NaN       -1        0   0   \n",
       "184     -1      OPN         NaN            NaN       -1        0   2   \n",
       "196     -1       NaN        NaN            NaN       -1        0   0   \n",
       "249     -1      OPN         NaN            NaN       -1        0   3   \n",
       "\n",
       "                ip  idlen essid  key  \n",
       "31   0.  0.  0.  0      0   NaN  NaN  \n",
       "33   0.  0.  0.  0      0   NaN  NaN  \n",
       "42   0.  0.  0.  0      0   NaN  NaN  \n",
       "43   0.  0.  0.  0      0   NaN  NaN  \n",
       "46   0.  0.  0.  0      0   NaN  NaN  \n",
       "161  0.  0.  0.  0      0   NaN  NaN  \n",
       "162  0.  0.  0.  0      0   NaN  NaN  \n",
       "183  0.  0.  0.  0      0   NaN  NaN  \n",
       "184  0.  0.  0.  0      0   NaN  NaN  \n",
       "196  0.  0.  0.  0      0   NaN  NaN  \n",
       "249  0.  0.  0.  0      0   NaN  NaN  "
      ]
     },
     "execution_count": 18,
     "metadata": {},
     "output_type": "execute_result"
    }
   ],
   "source": [
    "# Find all ESSIDs which is null i.e. Hidden SSID\n",
    "\n",
    "ap_df[ap_df.essid.isnull()]"
   ]
  },
  {
   "cell_type": "code",
   "execution_count": 19,
   "metadata": {},
   "outputs": [
    {
     "data": {
      "text/plain": [
       "True"
      ]
     },
     "execution_count": 19,
     "metadata": {},
     "output_type": "execute_result"
    }
   ],
   "source": [
    "ap_df.essid.hasnans"
   ]
  },
  {
   "cell_type": "code",
   "execution_count": 20,
   "metadata": {},
   "outputs": [
    {
     "data": {
      "text/plain": [
       "False"
      ]
     },
     "execution_count": 20,
     "metadata": {},
     "output_type": "execute_result"
    }
   ],
   "source": [
    "# Let's replace the NaNs with \"Hidden SSID\" \n",
    "\n",
    "ap_df.essid.fillna('Hidden SSID', inplace=True)\n",
    "\n",
    "ap_df.essid.hasnans"
   ]
  },
  {
   "cell_type": "code",
   "execution_count": 21,
   "metadata": {},
   "outputs": [
    {
     "data": {
      "text/html": [
       "<div>\n",
       "<style scoped>\n",
       "    .dataframe tbody tr th:only-of-type {\n",
       "        vertical-align: middle;\n",
       "    }\n",
       "\n",
       "    .dataframe tbody tr th {\n",
       "        vertical-align: top;\n",
       "    }\n",
       "\n",
       "    .dataframe thead th {\n",
       "        text-align: right;\n",
       "    }\n",
       "</style>\n",
       "<table border=\"1\" class=\"dataframe\">\n",
       "  <thead>\n",
       "    <tr style=\"text-align: right;\">\n",
       "      <th></th>\n",
       "      <th>bssid</th>\n",
       "      <th>firstseen</th>\n",
       "      <th>lastseen</th>\n",
       "      <th>channel</th>\n",
       "      <th>speed</th>\n",
       "      <th>privacy</th>\n",
       "      <th>cipher</th>\n",
       "      <th>authentication</th>\n",
       "      <th>dbpower</th>\n",
       "      <th>beacons</th>\n",
       "      <th>iv</th>\n",
       "      <th>ip</th>\n",
       "      <th>idlen</th>\n",
       "      <th>essid</th>\n",
       "      <th>key</th>\n",
       "    </tr>\n",
       "  </thead>\n",
       "  <tbody>\n",
       "    <tr>\n",
       "      <th>31</th>\n",
       "      <td>10:8C:CF:39:37:A0</td>\n",
       "      <td>2015-02-11 11:35:09</td>\n",
       "      <td>2015-02-11 11:36:09</td>\n",
       "      <td>6</td>\n",
       "      <td>-1</td>\n",
       "      <td>OPN</td>\n",
       "      <td>NaN</td>\n",
       "      <td>NaN</td>\n",
       "      <td>-1</td>\n",
       "      <td>0</td>\n",
       "      <td>2</td>\n",
       "      <td>0.  0.  0.  0</td>\n",
       "      <td>0</td>\n",
       "      <td>Hidden SSID</td>\n",
       "      <td>NaN</td>\n",
       "    </tr>\n",
       "    <tr>\n",
       "      <th>33</th>\n",
       "      <td>58:BC:27:13:8A:A0</td>\n",
       "      <td>2015-02-11 11:33:02</td>\n",
       "      <td>2015-02-11 11:36:01</td>\n",
       "      <td>6</td>\n",
       "      <td>-1</td>\n",
       "      <td>OPN</td>\n",
       "      <td>NaN</td>\n",
       "      <td>NaN</td>\n",
       "      <td>-1</td>\n",
       "      <td>0</td>\n",
       "      <td>2</td>\n",
       "      <td>0.  0.  0.  0</td>\n",
       "      <td>0</td>\n",
       "      <td>Hidden SSID</td>\n",
       "      <td>NaN</td>\n",
       "    </tr>\n",
       "    <tr>\n",
       "      <th>42</th>\n",
       "      <td>E8:04:62:0A:32:C0</td>\n",
       "      <td>2015-02-11 11:33:50</td>\n",
       "      <td>2015-02-11 11:35:49</td>\n",
       "      <td>6</td>\n",
       "      <td>-1</td>\n",
       "      <td>OPN</td>\n",
       "      <td>NaN</td>\n",
       "      <td>NaN</td>\n",
       "      <td>-1</td>\n",
       "      <td>0</td>\n",
       "      <td>3</td>\n",
       "      <td>0.  0.  0.  0</td>\n",
       "      <td>0</td>\n",
       "      <td>Hidden SSID</td>\n",
       "      <td>NaN</td>\n",
       "    </tr>\n",
       "  </tbody>\n",
       "</table>\n",
       "</div>"
      ],
      "text/plain": [
       "                bssid           firstseen            lastseen  channel  speed  \\\n",
       "31  10:8C:CF:39:37:A0 2015-02-11 11:35:09 2015-02-11 11:36:09        6     -1   \n",
       "33  58:BC:27:13:8A:A0 2015-02-11 11:33:02 2015-02-11 11:36:01        6     -1   \n",
       "42  E8:04:62:0A:32:C0 2015-02-11 11:33:50 2015-02-11 11:35:49        6     -1   \n",
       "\n",
       "   privacy cipher authentication  dbpower  beacons  iv             ip  idlen  \\\n",
       "31    OPN     NaN            NaN       -1        0   2  0.  0.  0.  0      0   \n",
       "33    OPN     NaN            NaN       -1        0   2  0.  0.  0.  0      0   \n",
       "42    OPN     NaN            NaN       -1        0   3  0.  0.  0.  0      0   \n",
       "\n",
       "          essid  key  \n",
       "31  Hidden SSID  NaN  \n",
       "33  Hidden SSID  NaN  \n",
       "42  Hidden SSID  NaN  "
      ]
     },
     "execution_count": 21,
     "metadata": {},
     "output_type": "execute_result"
    }
   ],
   "source": [
    "ap_df[ap_df.essid == 'Hidden SSID'].head(3)"
   ]
  },
  {
   "cell_type": "markdown",
   "metadata": {},
   "source": [
    "### How many APs of each SSID?"
   ]
  },
  {
   "cell_type": "code",
   "execution_count": 22,
   "metadata": {},
   "outputs": [
    {
     "data": {
      "text/plain": [
       "bloomu                          62\n",
       "bloomu-secure                   58\n",
       "bloomu-open                     57\n",
       "bloomu-psk                      53\n",
       "Hidden SSID                     11\n",
       "jlinkwireless                    1\n",
       "saturn                           1\n",
       "SETUP                            1\n",
       "airportthru                      1\n",
       "gryffindor                       1\n",
       "hpsetup                          1\n",
       "HP-Print-86-ENVY 5530 series     1\n",
       "NETGEAR                          1\n",
       "mikesuckz                        1\n",
       "Name: essid, dtype: int64"
      ]
     },
     "execution_count": 22,
     "metadata": {},
     "output_type": "execute_result"
    }
   ],
   "source": [
    "# Let us now get the ESSID counts\n",
    "\n",
    "essid_stats = ap_df.essid.value_counts()\n",
    "\n",
    "essid_stats"
   ]
  },
  {
   "cell_type": "code",
   "execution_count": 23,
   "metadata": {},
   "outputs": [
    {
     "data": {
      "text/plain": [
       "<matplotlib.axes._subplots.AxesSubplot at 0x7f56f52ed6a0>"
      ]
     },
     "execution_count": 23,
     "metadata": {},
     "output_type": "execute_result"
    },
    {
     "data": {
      "image/png": "[encoded data removed]",
      "text/plain": [
       "<Figure size 720x360 with 1 Axes>"
      ]
     },
     "metadata": {
      "needs_background": "light"
     },
     "output_type": "display_data"
    }
   ],
   "source": [
    "# Let's plot this with a Bar Chart\n",
    "\n",
    "essid_stats.plot(kind='barh', figsize=(10,5))"
   ]
  },
  {
   "cell_type": "markdown",
   "metadata": {},
   "source": [
    "### Which channels are most occupied?"
   ]
  },
  {
   "cell_type": "code",
   "execution_count": 24,
   "metadata": {},
   "outputs": [
    {
     "data": {
      "text/plain": [
       "6     105\n",
       "11     94\n",
       "1      49\n",
       "10      1\n",
       "4       1\n",
       "Name: channel, dtype: int64"
      ]
     },
     "execution_count": 24,
     "metadata": {},
     "output_type": "execute_result"
    }
   ],
   "source": [
    "ap_df.channel.value_counts()"
   ]
  },
  {
   "cell_type": "code",
   "execution_count": 25,
   "metadata": {},
   "outputs": [
    {
     "data": {
      "text/plain": [
       "<matplotlib.axes._subplots.AxesSubplot at 0x7f56f52263d0>"
      ]
     },
     "execution_count": 25,
     "metadata": {},
     "output_type": "execute_result"
    },
    {
     "data": {
      "image/png": "[encoded data removed]",
      "text/plain": [
       "<Figure size 432x288 with 1 Axes>"
      ]
     },
     "metadata": {
      "needs_background": "light"
     },
     "output_type": "display_data"
    }
   ],
   "source": [
    "ap_df.channel.value_counts().plot(kind='bar')"
   ]
  },
  {
   "cell_type": "markdown",
   "metadata": {},
   "source": [
    "### How is each SSID's APs spread across the channels?"
   ]
  },
  {
   "cell_type": "code",
   "execution_count": 33,
   "metadata": {},
   "outputs": [
    {
     "data": {
      "text/plain": [
       "essid                         channel\n",
       "HP-Print-86-ENVY 5530 series  6           1\n",
       "Hidden SSID                   6          11\n",
       "NETGEAR                       11          1\n",
       "SETUP                         11          1\n",
       "airportthru                   10          1\n",
       "bloomu                        1          13\n",
       "                              6          25\n",
       "                              11         24\n",
       "bloomu-open                   1          13\n",
       "                              6          21\n",
       "                              11         23\n",
       "bloomu-psk                    1          10\n",
       "                              6          21\n",
       "                              11         22\n",
       "bloomu-secure                 1          13\n",
       "                              6          22\n",
       "                              11         23\n",
       "gryffindor                    6           1\n",
       "hpsetup                       6           1\n",
       "jlinkwireless                 6           1\n",
       "mikesuckz                     6           1\n",
       "saturn                        4           1\n",
       "Name: channel, dtype: int64"
      ]
     },
     "execution_count": 33,
     "metadata": {},
     "output_type": "execute_result"
    }
   ],
   "source": [
    "ap_df.groupby(['essid', 'channel'])['channel'].count()"
   ]
  },
  {
   "cell_type": "code",
   "execution_count": 34,
   "metadata": {},
   "outputs": [
    {
     "data": {
      "text/html": [
       "<div>\n",
       "<style scoped>\n",
       "    .dataframe tbody tr th:only-of-type {\n",
       "        vertical-align: middle;\n",
       "    }\n",
       "\n",
       "    .dataframe tbody tr th {\n",
       "        vertical-align: top;\n",
       "    }\n",
       "\n",
       "    .dataframe thead th {\n",
       "        text-align: right;\n",
       "    }\n",
       "</style>\n",
       "<table border=\"1\" class=\"dataframe\">\n",
       "  <thead>\n",
       "    <tr style=\"text-align: right;\">\n",
       "      <th>channel</th>\n",
       "      <th>1</th>\n",
       "      <th>4</th>\n",
       "      <th>6</th>\n",
       "      <th>10</th>\n",
       "      <th>11</th>\n",
       "    </tr>\n",
       "    <tr>\n",
       "      <th>essid</th>\n",
       "      <th></th>\n",
       "      <th></th>\n",
       "      <th></th>\n",
       "      <th></th>\n",
       "      <th></th>\n",
       "    </tr>\n",
       "  </thead>\n",
       "  <tbody>\n",
       "    <tr>\n",
       "      <th>HP-Print-86-ENVY 5530 series</th>\n",
       "      <td>NaN</td>\n",
       "      <td>NaN</td>\n",
       "      <td>1.0</td>\n",
       "      <td>NaN</td>\n",
       "      <td>NaN</td>\n",
       "    </tr>\n",
       "    <tr>\n",
       "      <th>Hidden SSID</th>\n",
       "      <td>NaN</td>\n",
       "      <td>NaN</td>\n",
       "      <td>11.0</td>\n",
       "      <td>NaN</td>\n",
       "      <td>NaN</td>\n",
       "    </tr>\n",
       "    <tr>\n",
       "      <th>NETGEAR</th>\n",
       "      <td>NaN</td>\n",
       "      <td>NaN</td>\n",
       "      <td>NaN</td>\n",
       "      <td>NaN</td>\n",
       "      <td>1.0</td>\n",
       "    </tr>\n",
       "    <tr>\n",
       "      <th>SETUP</th>\n",
       "      <td>NaN</td>\n",
       "      <td>NaN</td>\n",
       "      <td>NaN</td>\n",
       "      <td>NaN</td>\n",
       "      <td>1.0</td>\n",
       "    </tr>\n",
       "    <tr>\n",
       "      <th>airportthru</th>\n",
       "      <td>NaN</td>\n",
       "      <td>NaN</td>\n",
       "      <td>NaN</td>\n",
       "      <td>1.0</td>\n",
       "      <td>NaN</td>\n",
       "    </tr>\n",
       "    <tr>\n",
       "      <th>bloomu</th>\n",
       "      <td>13.0</td>\n",
       "      <td>NaN</td>\n",
       "      <td>25.0</td>\n",
       "      <td>NaN</td>\n",
       "      <td>24.0</td>\n",
       "    </tr>\n",
       "    <tr>\n",
       "      <th>bloomu-open</th>\n",
       "      <td>13.0</td>\n",
       "      <td>NaN</td>\n",
       "      <td>21.0</td>\n",
       "      <td>NaN</td>\n",
       "      <td>23.0</td>\n",
       "    </tr>\n",
       "    <tr>\n",
       "      <th>bloomu-psk</th>\n",
       "      <td>10.0</td>\n",
       "      <td>NaN</td>\n",
       "      <td>21.0</td>\n",
       "      <td>NaN</td>\n",
       "      <td>22.0</td>\n",
       "    </tr>\n",
       "    <tr>\n",
       "      <th>bloomu-secure</th>\n",
       "      <td>13.0</td>\n",
       "      <td>NaN</td>\n",
       "      <td>22.0</td>\n",
       "      <td>NaN</td>\n",
       "      <td>23.0</td>\n",
       "    </tr>\n",
       "    <tr>\n",
       "      <th>gryffindor</th>\n",
       "      <td>NaN</td>\n",
       "      <td>NaN</td>\n",
       "      <td>1.0</td>\n",
       "      <td>NaN</td>\n",
       "      <td>NaN</td>\n",
       "    </tr>\n",
       "    <tr>\n",
       "      <th>hpsetup</th>\n",
       "      <td>NaN</td>\n",
       "      <td>NaN</td>\n",
       "      <td>1.0</td>\n",
       "      <td>NaN</td>\n",
       "      <td>NaN</td>\n",
       "    </tr>\n",
       "    <tr>\n",
       "      <th>jlinkwireless</th>\n",
       "      <td>NaN</td>\n",
       "      <td>NaN</td>\n",
       "      <td>1.0</td>\n",
       "      <td>NaN</td>\n",
       "      <td>NaN</td>\n",
       "    </tr>\n",
       "    <tr>\n",
       "      <th>mikesuckz</th>\n",
       "      <td>NaN</td>\n",
       "      <td>NaN</td>\n",
       "      <td>1.0</td>\n",
       "      <td>NaN</td>\n",
       "      <td>NaN</td>\n",
       "    </tr>\n",
       "    <tr>\n",
       "      <th>saturn</th>\n",
       "      <td>NaN</td>\n",
       "      <td>1.0</td>\n",
       "      <td>NaN</td>\n",
       "      <td>NaN</td>\n",
       "      <td>NaN</td>\n",
       "    </tr>\n",
       "  </tbody>\n",
       "</table>\n",
       "</div>"
      ],
      "text/plain": [
       "channel                         1    4     6    10    11\n",
       "essid                                                   \n",
       "HP-Print-86-ENVY 5530 series   NaN  NaN   1.0  NaN   NaN\n",
       "Hidden SSID                    NaN  NaN  11.0  NaN   NaN\n",
       "NETGEAR                        NaN  NaN   NaN  NaN   1.0\n",
       "SETUP                          NaN  NaN   NaN  NaN   1.0\n",
       "airportthru                    NaN  NaN   NaN  1.0   NaN\n",
       "bloomu                        13.0  NaN  25.0  NaN  24.0\n",
       "bloomu-open                   13.0  NaN  21.0  NaN  23.0\n",
       "bloomu-psk                    10.0  NaN  21.0  NaN  22.0\n",
       "bloomu-secure                 13.0  NaN  22.0  NaN  23.0\n",
       "gryffindor                     NaN  NaN   1.0  NaN   NaN\n",
       "hpsetup                        NaN  NaN   1.0  NaN   NaN\n",
       "jlinkwireless                  NaN  NaN   1.0  NaN   NaN\n",
       "mikesuckz                      NaN  NaN   1.0  NaN   NaN\n",
       "saturn                         NaN  1.0   NaN  NaN   NaN"
      ]
     },
     "execution_count": 34,
     "metadata": {},
     "output_type": "execute_result"
    }
   ],
   "source": [
    "ap_df.groupby(['essid', 'channel'])['channel'].count().unstack()"
   ]
  },
  {
   "cell_type": "code",
   "execution_count": 35,
   "metadata": {},
   "outputs": [
    {
     "data": {
      "text/html": [
       "<div>\n",
       "<style scoped>\n",
       "    .dataframe tbody tr th:only-of-type {\n",
       "        vertical-align: middle;\n",
       "    }\n",
       "\n",
       "    .dataframe tbody tr th {\n",
       "        vertical-align: top;\n",
       "    }\n",
       "\n",
       "    .dataframe thead th {\n",
       "        text-align: right;\n",
       "    }\n",
       "</style>\n",
       "<table border=\"1\" class=\"dataframe\">\n",
       "  <thead>\n",
       "    <tr style=\"text-align: right;\">\n",
       "      <th>channel</th>\n",
       "      <th>1</th>\n",
       "      <th>4</th>\n",
       "      <th>6</th>\n",
       "      <th>10</th>\n",
       "      <th>11</th>\n",
       "    </tr>\n",
       "    <tr>\n",
       "      <th>essid</th>\n",
       "      <th></th>\n",
       "      <th></th>\n",
       "      <th></th>\n",
       "      <th></th>\n",
       "      <th></th>\n",
       "    </tr>\n",
       "  </thead>\n",
       "  <tbody>\n",
       "    <tr>\n",
       "      <th>HP-Print-86-ENVY 5530 series</th>\n",
       "      <td>0.0</td>\n",
       "      <td>0.0</td>\n",
       "      <td>1.0</td>\n",
       "      <td>0.0</td>\n",
       "      <td>0.0</td>\n",
       "    </tr>\n",
       "    <tr>\n",
       "      <th>Hidden SSID</th>\n",
       "      <td>0.0</td>\n",
       "      <td>0.0</td>\n",
       "      <td>11.0</td>\n",
       "      <td>0.0</td>\n",
       "      <td>0.0</td>\n",
       "    </tr>\n",
       "    <tr>\n",
       "      <th>NETGEAR</th>\n",
       "      <td>0.0</td>\n",
       "      <td>0.0</td>\n",
       "      <td>0.0</td>\n",
       "      <td>0.0</td>\n",
       "      <td>1.0</td>\n",
       "    </tr>\n",
       "    <tr>\n",
       "      <th>SETUP</th>\n",
       "      <td>0.0</td>\n",
       "      <td>0.0</td>\n",
       "      <td>0.0</td>\n",
       "      <td>0.0</td>\n",
       "      <td>1.0</td>\n",
       "    </tr>\n",
       "    <tr>\n",
       "      <th>airportthru</th>\n",
       "      <td>0.0</td>\n",
       "      <td>0.0</td>\n",
       "      <td>0.0</td>\n",
       "      <td>1.0</td>\n",
       "      <td>0.0</td>\n",
       "    </tr>\n",
       "    <tr>\n",
       "      <th>bloomu</th>\n",
       "      <td>13.0</td>\n",
       "      <td>0.0</td>\n",
       "      <td>25.0</td>\n",
       "      <td>0.0</td>\n",
       "      <td>24.0</td>\n",
       "    </tr>\n",
       "    <tr>\n",
       "      <th>bloomu-open</th>\n",
       "      <td>13.0</td>\n",
       "      <td>0.0</td>\n",
       "      <td>21.0</td>\n",
       "      <td>0.0</td>\n",
       "      <td>23.0</td>\n",
       "    </tr>\n",
       "    <tr>\n",
       "      <th>bloomu-psk</th>\n",
       "      <td>10.0</td>\n",
       "      <td>0.0</td>\n",
       "      <td>21.0</td>\n",
       "      <td>0.0</td>\n",
       "      <td>22.0</td>\n",
       "    </tr>\n",
       "    <tr>\n",
       "      <th>bloomu-secure</th>\n",
       "      <td>13.0</td>\n",
       "      <td>0.0</td>\n",
       "      <td>22.0</td>\n",
       "      <td>0.0</td>\n",
       "      <td>23.0</td>\n",
       "    </tr>\n",
       "    <tr>\n",
       "      <th>gryffindor</th>\n",
       "      <td>0.0</td>\n",
       "      <td>0.0</td>\n",
       "      <td>1.0</td>\n",
       "      <td>0.0</td>\n",
       "      <td>0.0</td>\n",
       "    </tr>\n",
       "    <tr>\n",
       "      <th>hpsetup</th>\n",
       "      <td>0.0</td>\n",
       "      <td>0.0</td>\n",
       "      <td>1.0</td>\n",
       "      <td>0.0</td>\n",
       "      <td>0.0</td>\n",
       "    </tr>\n",
       "    <tr>\n",
       "      <th>jlinkwireless</th>\n",
       "      <td>0.0</td>\n",
       "      <td>0.0</td>\n",
       "      <td>1.0</td>\n",
       "      <td>0.0</td>\n",
       "      <td>0.0</td>\n",
       "    </tr>\n",
       "    <tr>\n",
       "      <th>mikesuckz</th>\n",
       "      <td>0.0</td>\n",
       "      <td>0.0</td>\n",
       "      <td>1.0</td>\n",
       "      <td>0.0</td>\n",
       "      <td>0.0</td>\n",
       "    </tr>\n",
       "    <tr>\n",
       "      <th>saturn</th>\n",
       "      <td>0.0</td>\n",
       "      <td>1.0</td>\n",
       "      <td>0.0</td>\n",
       "      <td>0.0</td>\n",
       "      <td>0.0</td>\n",
       "    </tr>\n",
       "  </tbody>\n",
       "</table>\n",
       "</div>"
      ],
      "text/plain": [
       "channel                         1    4     6    10    11\n",
       "essid                                                   \n",
       "HP-Print-86-ENVY 5530 series   0.0  0.0   1.0  0.0   0.0\n",
       "Hidden SSID                    0.0  0.0  11.0  0.0   0.0\n",
       "NETGEAR                        0.0  0.0   0.0  0.0   1.0\n",
       "SETUP                          0.0  0.0   0.0  0.0   1.0\n",
       "airportthru                    0.0  0.0   0.0  1.0   0.0\n",
       "bloomu                        13.0  0.0  25.0  0.0  24.0\n",
       "bloomu-open                   13.0  0.0  21.0  0.0  23.0\n",
       "bloomu-psk                    10.0  0.0  21.0  0.0  22.0\n",
       "bloomu-secure                 13.0  0.0  22.0  0.0  23.0\n",
       "gryffindor                     0.0  0.0   1.0  0.0   0.0\n",
       "hpsetup                        0.0  0.0   1.0  0.0   0.0\n",
       "jlinkwireless                  0.0  0.0   1.0  0.0   0.0\n",
       "mikesuckz                      0.0  0.0   1.0  0.0   0.0\n",
       "saturn                         0.0  1.0   0.0  0.0   0.0"
      ]
     },
     "execution_count": 35,
     "metadata": {},
     "output_type": "execute_result"
    }
   ],
   "source": [
    "ap_df.groupby(['essid', 'channel'])['channel'].count().unstack().fillna(0)"
   ]
  },
  {
   "cell_type": "code",
   "execution_count": 36,
   "metadata": {},
   "outputs": [],
   "source": [
    "channel_data = ap_df.groupby(['essid', 'channel'])['channel'].count().unstack().fillna(0)"
   ]
  },
  {
   "cell_type": "code",
   "execution_count": 47,
   "metadata": {},
   "outputs": [
    {
     "data": {
      "text/plain": [
       "<matplotlib.legend.Legend at 0x7f56efe32640>"
      ]
     },
     "execution_count": 47,
     "metadata": {},
     "output_type": "execute_result"
    },
    {
     "data": {
      "image/png": "[encoded data removed]",
      "text/plain": [
       "<Figure size 720x288 with 1 Axes>"
      ]
     },
     "metadata": {
      "needs_background": "light"
     },
     "output_type": "display_data"
    }
   ],
   "source": [
    "channel_data.plot(kind='bar', stacked=True, figsize=(10,4)).legend(bbox_to_anchor=(1.2, 1))"
   ]
  },
  {
   "cell_type": "markdown",
   "metadata": {},
   "source": [
    "### Which manufacturers of Wi-Fi cards are most popular?"
   ]
  },
  {
   "cell_type": "code",
   "execution_count": 60,
   "metadata": {},
   "outputs": [
    {
     "data": {
      "text/plain": [
       "0    10:8C:CF\n",
       "1    00:1C:F9\n",
       "2    00:1C:F9\n",
       "3    00:23:AB\n",
       "4    00:1C:F9\n",
       "5    00:23:AB\n",
       "6    10:8C:CF\n",
       "7    00:23:AB\n",
       "8    00:23:AB\n",
       "9    00:23:AB\n",
       "Name: bssid, dtype: object"
      ]
     },
     "execution_count": 60,
     "metadata": {},
     "output_type": "execute_result"
    }
   ],
   "source": [
    "# AP vendors can be figured out by the first 3 bytes of the MAC address. \n",
    "# We don't have the OUI list  for the conversion but we can find the most \n",
    "# common first 3 bytes of the MAC address\n",
    "\n",
    "\n",
    "manufacturer = ap_df.bssid.str.extract('(..:..:..)', expand=False)\n",
    "\n",
    "manufacturer.head(10)"
   ]
  },
  {
   "cell_type": "code",
   "execution_count": 61,
   "metadata": {},
   "outputs": [
    {
     "data": {
      "text/plain": [
       "10:8C:CF    94\n",
       "E8:04:62    35\n",
       "A0:CF:5B    23\n",
       "58:BC:27    16\n",
       "40:F4:EC    14\n",
       "6C:FA:89     8\n",
       "00:1C:0E     8\n",
       "00:1C:F9     8\n",
       "00:23:AB     8\n",
       "B0:00:B4     6\n",
       "DC:7B:94     5\n",
       "54:4A:00     4\n",
       "44:E4:D9     4\n",
       "88:75:56     4\n",
       "26:43:AB     1\n",
       "00:25:00     1\n",
       "00:26:F2     1\n",
       "18:EF:63     1\n",
       "FC:15:B4     1\n",
       "00:24:14     1\n",
       "20:AA:4B     1\n",
       "00:1E:E5     1\n",
       "2E:25:B3     1\n",
       "0A:27:22     1\n",
       "06:27:22     1\n",
       "1A:45:CB     1\n",
       "00:25:9C     1\n",
       "Name: bssid, dtype: int64"
      ]
     },
     "execution_count": 61,
     "metadata": {},
     "output_type": "execute_result"
    }
   ],
   "source": [
    "manufacturer.value_counts()"
   ]
  },
  {
   "cell_type": "code",
   "execution_count": 66,
   "metadata": {},
   "outputs": [
    {
     "name": "stdout",
     "output_type": "stream",
     "text": [
      "Help on package netaddr:\n",
      "\n",
      "NAME\n",
      "    netaddr - A Python library for manipulating IP and EUI network addresses.\n",
      "\n",
      "PACKAGE CONTENTS\n",
      "    compat\n",
      "    contrib (package)\n",
      "    core\n",
      "    eui (package)\n",
      "    fbsocket\n",
      "    ip (package)\n",
      "    strategy (package)\n",
      "\n",
      "DATA\n",
      "    INET_PTON = 1\n",
      "    N = 4\n",
      "    NOHOST = 4\n",
      "    P = 1\n",
      "    STATUS = ''\n",
      "    VERSION = (0, 7, 19)\n",
      "    Z = 2\n",
      "    ZEROFILL = 2\n",
      "\n",
      "VERSION\n",
      "    0.7.19\n",
      "\n",
      "FILE\n",
      "    /usr/lib/python3/dist-packages/netaddr/__init__.py\n",
      "\n",
      "\n"
     ]
    }
   ],
   "source": [
    "# https://pypi.python.org/pypi/netaddr\n",
    "\n",
    "import netaddr\n",
    "\n",
    "help(netaddr)"
   ]
  },
  {
   "cell_type": "code",
   "execution_count": 68,
   "metadata": {},
   "outputs": [
    {
     "data": {
      "text/plain": [
       "{'address': ['80 West Tasman Drive', 'San Jose  CA  94568', 'US'],\n",
       " 'idx': 1084623,\n",
       " 'offset': 3344258,\n",
       " 'org': 'Cisco Systems, Inc',\n",
       " 'oui': '10-8C-CF',\n",
       " 'size': 141}"
      ]
     },
     "execution_count": 68,
     "metadata": {},
     "output_type": "execute_result"
    }
   ],
   "source": [
    "netaddr.OUI('10:8C:CF'.replace(':', '-')).registration()"
   ]
  },
  {
   "cell_type": "code",
   "execution_count": 69,
   "metadata": {},
   "outputs": [
    {
     "data": {
      "text/plain": [
       "'Cisco Systems, Inc'"
      ]
     },
     "execution_count": 69,
     "metadata": {},
     "output_type": "execute_result"
    }
   ],
   "source": [
    "netaddr.OUI('10:8C:CF'.replace(':', '-')).registration().org"
   ]
  },
  {
   "cell_type": "code",
   "execution_count": 78,
   "metadata": {},
   "outputs": [
    {
     "name": "stdout",
     "output_type": "stream",
     "text": [
      "10:8C:CF\n",
      "E8:04:62\n",
      "A0:CF:5B\n",
      "58:BC:27\n",
      "40:F4:EC\n",
      "6C:FA:89\n",
      "00:1C:0E\n",
      "00:1C:F9\n",
      "00:23:AB\n",
      "B0:00:B4\n"
     ]
    }
   ],
   "source": [
    "for x in manufacturer.value_counts().index[:10]:\n",
    "        print(x)"
   ]
  },
  {
   "cell_type": "code",
   "execution_count": 79,
   "metadata": {},
   "outputs": [
    {
     "data": {
      "text/plain": [
       "['Cisco Systems, Inc',\n",
       " 'Cisco Systems, Inc',\n",
       " 'Cisco Systems, Inc',\n",
       " 'Cisco Systems, Inc',\n",
       " 'Cisco Systems, Inc',\n",
       " 'Cisco Systems, Inc',\n",
       " 'Cisco Systems, Inc',\n",
       " 'Cisco Systems, Inc',\n",
       " 'Cisco Systems, Inc',\n",
       " 'Cisco Systems, Inc',\n",
       " 'Cisco Systems, Inc',\n",
       " 'Cisco Systems, Inc',\n",
       " 'Cisco Systems, Inc',\n",
       " 'Cisco Systems, Inc',\n",
       " 'Unknown',\n",
       " 'Apple, Inc.',\n",
       " 'NETGEAR',\n",
       " 'Cisco Systems, Inc',\n",
       " 'Hewlett Packard',\n",
       " 'Cisco Systems, Inc',\n",
       " 'Cisco-Linksys, LLC',\n",
       " 'Cisco-Linksys, LLC',\n",
       " 'Unknown',\n",
       " 'Unknown',\n",
       " 'Unknown',\n",
       " 'Unknown',\n",
       " 'Cisco-Linksys, LLC']"
      ]
     },
     "execution_count": 79,
     "metadata": {},
     "output_type": "execute_result"
    }
   ],
   "source": [
    "def manufac(oui) :\n",
    "    try:\n",
    "        return netaddr.OUI(oui.replace(':', '-')).registration().org\n",
    "    except:\n",
    "        return \"Unknown\"\n",
    "\n",
    "[ manufac(oui) for oui in manufacturer.value_counts().index]"
   ]
  },
  {
   "cell_type": "markdown",
   "metadata": {},
   "source": [
    "### Which channels does the bloomuXXX networks use?"
   ]
  },
  {
   "cell_type": "code",
   "execution_count": 80,
   "metadata": {},
   "outputs": [],
   "source": [
    "ap_channel = ap_df[ap_df.essid.str.startswith('bloomu')][['essid', 'channel']]"
   ]
  },
  {
   "cell_type": "code",
   "execution_count": 81,
   "metadata": {},
   "outputs": [
    {
     "data": {
      "text/html": [
       "<div>\n",
       "<style scoped>\n",
       "    .dataframe tbody tr th:only-of-type {\n",
       "        vertical-align: middle;\n",
       "    }\n",
       "\n",
       "    .dataframe tbody tr th {\n",
       "        vertical-align: top;\n",
       "    }\n",
       "\n",
       "    .dataframe thead th {\n",
       "        text-align: right;\n",
       "    }\n",
       "</style>\n",
       "<table border=\"1\" class=\"dataframe\">\n",
       "  <thead>\n",
       "    <tr style=\"text-align: right;\">\n",
       "      <th></th>\n",
       "      <th>essid</th>\n",
       "      <th>channel</th>\n",
       "    </tr>\n",
       "  </thead>\n",
       "  <tbody>\n",
       "    <tr>\n",
       "      <th>0</th>\n",
       "      <td>bloomu</td>\n",
       "      <td>6</td>\n",
       "    </tr>\n",
       "    <tr>\n",
       "      <th>1</th>\n",
       "      <td>bloomu-open</td>\n",
       "      <td>1</td>\n",
       "    </tr>\n",
       "    <tr>\n",
       "      <th>2</th>\n",
       "      <td>bloomu-secure</td>\n",
       "      <td>1</td>\n",
       "    </tr>\n",
       "    <tr>\n",
       "      <th>3</th>\n",
       "      <td>bloomu-secure</td>\n",
       "      <td>1</td>\n",
       "    </tr>\n",
       "    <tr>\n",
       "      <th>4</th>\n",
       "      <td>bloomu-psk</td>\n",
       "      <td>1</td>\n",
       "    </tr>\n",
       "  </tbody>\n",
       "</table>\n",
       "</div>"
      ],
      "text/plain": [
       "           essid  channel\n",
       "0         bloomu        6\n",
       "1    bloomu-open        1\n",
       "2  bloomu-secure        1\n",
       "3  bloomu-secure        1\n",
       "4     bloomu-psk        1"
      ]
     },
     "execution_count": 81,
     "metadata": {},
     "output_type": "execute_result"
    }
   ],
   "source": [
    "ap_channel.head(5)"
   ]
  },
  {
   "cell_type": "code",
   "execution_count": 85,
   "metadata": {},
   "outputs": [
    {
     "data": {
      "text/plain": [
       "essid          channel\n",
       "bloomu         1          13\n",
       "               6          25\n",
       "               11         24\n",
       "bloomu-open    1          13\n",
       "               6          21\n",
       "               11         23\n",
       "bloomu-psk     1          10\n",
       "               6          21\n",
       "               11         22\n",
       "bloomu-secure  1          13\n",
       "               6          22\n",
       "               11         23\n",
       "Name: channel, dtype: int64"
      ]
     },
     "execution_count": 85,
     "metadata": {},
     "output_type": "execute_result"
    }
   ],
   "source": [
    "\n",
    "ap_channel_dist = ap_channel.groupby(['essid', 'channel'])['channel'].count()\n",
    "\n",
    "ap_channel_dist"
   ]
  },
  {
   "cell_type": "code",
   "execution_count": 92,
   "metadata": {},
   "outputs": [
    {
     "data": {
      "text/html": [
       "<div>\n",
       "<style scoped>\n",
       "    .dataframe tbody tr th:only-of-type {\n",
       "        vertical-align: middle;\n",
       "    }\n",
       "\n",
       "    .dataframe tbody tr th {\n",
       "        vertical-align: top;\n",
       "    }\n",
       "\n",
       "    .dataframe thead th {\n",
       "        text-align: right;\n",
       "    }\n",
       "</style>\n",
       "<table border=\"1\" class=\"dataframe\">\n",
       "  <thead>\n",
       "    <tr style=\"text-align: right;\">\n",
       "      <th>channel</th>\n",
       "      <th>1</th>\n",
       "      <th>6</th>\n",
       "      <th>11</th>\n",
       "    </tr>\n",
       "    <tr>\n",
       "      <th>essid</th>\n",
       "      <th></th>\n",
       "      <th></th>\n",
       "      <th></th>\n",
       "    </tr>\n",
       "  </thead>\n",
       "  <tbody>\n",
       "    <tr>\n",
       "      <th>bloomu</th>\n",
       "      <td>13</td>\n",
       "      <td>25</td>\n",
       "      <td>24</td>\n",
       "    </tr>\n",
       "    <tr>\n",
       "      <th>bloomu-open</th>\n",
       "      <td>13</td>\n",
       "      <td>21</td>\n",
       "      <td>23</td>\n",
       "    </tr>\n",
       "    <tr>\n",
       "      <th>bloomu-psk</th>\n",
       "      <td>10</td>\n",
       "      <td>21</td>\n",
       "      <td>22</td>\n",
       "    </tr>\n",
       "    <tr>\n",
       "      <th>bloomu-secure</th>\n",
       "      <td>13</td>\n",
       "      <td>22</td>\n",
       "      <td>23</td>\n",
       "    </tr>\n",
       "  </tbody>\n",
       "</table>\n",
       "</div>"
      ],
      "text/plain": [
       "channel        1   6   11\n",
       "essid                    \n",
       "bloomu         13  25  24\n",
       "bloomu-open    13  21  23\n",
       "bloomu-psk     10  21  22\n",
       "bloomu-secure  13  22  23"
      ]
     },
     "execution_count": 92,
     "metadata": {},
     "output_type": "execute_result"
    }
   ],
   "source": [
    "ap_channel_dist.unstack()"
   ]
  },
  {
   "cell_type": "code",
   "execution_count": 97,
   "metadata": {},
   "outputs": [
    {
     "data": {
      "text/plain": [
       "<matplotlib.legend.Legend at 0x7f56f4218220>"
      ]
     },
     "execution_count": 97,
     "metadata": {},
     "output_type": "execute_result"
    },
    {
     "data": {
      "image/png": "[encoded data removed]",
      "text/plain": [
       "<Figure size 720x360 with 1 Axes>"
      ]
     },
     "metadata": {
      "needs_background": "light"
     },
     "output_type": "display_data"
    }
   ],
   "source": [
    "ap_channel_dist.unstack().plot(kind='bar', stacked=True, figsize=(10,5)).legend(bbox_to_anchor=(1.1, 1))"
   ]
  },
  {
   "cell_type": "code",
   "execution_count": 98,
   "metadata": {},
   "outputs": [
    {
     "data": {
      "text/html": [
       "<div>\n",
       "<style scoped>\n",
       "    .dataframe tbody tr th:only-of-type {\n",
       "        vertical-align: middle;\n",
       "    }\n",
       "\n",
       "    .dataframe tbody tr th {\n",
       "        vertical-align: top;\n",
       "    }\n",
       "\n",
       "    .dataframe thead th {\n",
       "        text-align: right;\n",
       "    }\n",
       "</style>\n",
       "<table border=\"1\" class=\"dataframe\">\n",
       "  <thead>\n",
       "    <tr style=\"text-align: right;\">\n",
       "      <th>essid</th>\n",
       "      <th>bloomu</th>\n",
       "      <th>bloomu-open</th>\n",
       "      <th>bloomu-psk</th>\n",
       "      <th>bloomu-secure</th>\n",
       "    </tr>\n",
       "    <tr>\n",
       "      <th>channel</th>\n",
       "      <th></th>\n",
       "      <th></th>\n",
       "      <th></th>\n",
       "      <th></th>\n",
       "    </tr>\n",
       "  </thead>\n",
       "  <tbody>\n",
       "    <tr>\n",
       "      <th>1</th>\n",
       "      <td>13</td>\n",
       "      <td>13</td>\n",
       "      <td>10</td>\n",
       "      <td>13</td>\n",
       "    </tr>\n",
       "    <tr>\n",
       "      <th>6</th>\n",
       "      <td>25</td>\n",
       "      <td>21</td>\n",
       "      <td>21</td>\n",
       "      <td>22</td>\n",
       "    </tr>\n",
       "    <tr>\n",
       "      <th>11</th>\n",
       "      <td>24</td>\n",
       "      <td>23</td>\n",
       "      <td>22</td>\n",
       "      <td>23</td>\n",
       "    </tr>\n",
       "  </tbody>\n",
       "</table>\n",
       "</div>"
      ],
      "text/plain": [
       "essid    bloomu  bloomu-open  bloomu-psk  bloomu-secure\n",
       "channel                                                \n",
       "1            13           13          10             13\n",
       "6            25           21          21             22\n",
       "11           24           23          22             23"
      ]
     },
     "execution_count": 98,
     "metadata": {},
     "output_type": "execute_result"
    }
   ],
   "source": [
    "ap_channel_dist.unstack().T"
   ]
  },
  {
   "cell_type": "code",
   "execution_count": 100,
   "metadata": {},
   "outputs": [
    {
     "data": {
      "text/plain": [
       "<matplotlib.axes._subplots.AxesSubplot at 0x7f56ef253a00>"
      ]
     },
     "execution_count": 100,
     "metadata": {},
     "output_type": "execute_result"
    },
    {
     "data": {
      "image/png": "[encoded data removed]",
      "text/plain": [
       "<Figure size 720x360 with 1 Axes>"
      ]
     },
     "metadata": {
      "needs_background": "light"
     },
     "output_type": "display_data"
    }
   ],
   "source": [
    "ap_channel_dist.unstack().T.plot(kind='bar', stacked=True, figsize=(10,5))"
   ]
  },
  {
   "cell_type": "markdown",
   "metadata": {},
   "source": [
    "### Which vendor's AP does the bloomuXXX network use most?"
   ]
  },
  {
   "cell_type": "code",
   "execution_count": 101,
   "metadata": {},
   "outputs": [
    {
     "data": {
      "text/plain": [
       "0    10:8C:CF:EA:C2:40\n",
       "1    00:1C:F9:C1:EF:AA\n",
       "2    00:1C:F9:C1:EF:AB\n",
       "3    00:23:AB:27:CB:1B\n",
       "4    00:1C:F9:C1:EF:A2\n",
       "Name: bssid, dtype: object"
      ]
     },
     "execution_count": 101,
     "metadata": {},
     "output_type": "execute_result"
    }
   ],
   "source": [
    "all_bssids = ap_df[ap_df.essid.str.startswith('bloomu')].bssid\n",
    "\n",
    "all_bssids.head(5)"
   ]
  },
  {
   "cell_type": "code",
   "execution_count": 102,
   "metadata": {},
   "outputs": [
    {
     "data": {
      "text/plain": [
       "0    10:8C:CF\n",
       "1    00:1C:F9\n",
       "2    00:1C:F9\n",
       "3    00:23:AB\n",
       "4    00:1C:F9\n",
       "Name: bssid, dtype: object"
      ]
     },
     "execution_count": 102,
     "metadata": {},
     "output_type": "execute_result"
    }
   ],
   "source": [
    "all_vendors = all_bssids.str.extract('(..:..:..)', expand=False)\n",
    "\n",
    "all_vendors.head(5)"
   ]
  },
  {
   "cell_type": "code",
   "execution_count": 103,
   "metadata": {},
   "outputs": [
    {
     "data": {
      "text/plain": [
       "10:8C:CF    92\n",
       "E8:04:62    32\n",
       "A0:CF:5B    23\n",
       "58:BC:27    15\n",
       "40:F4:EC    12\n",
       "00:1C:F9     8\n",
       "00:1C:0E     8\n",
       "6C:FA:89     8\n",
       "00:23:AB     8\n",
       "B0:00:B4     6\n",
       "88:75:56     4\n",
       "54:4A:00     4\n",
       "DC:7B:94     4\n",
       "44:E4:D9     4\n",
       "18:EF:63     1\n",
       "00:24:14     1\n",
       "Name: bssid, dtype: int64"
      ]
     },
     "execution_count": 103,
     "metadata": {},
     "output_type": "execute_result"
    }
   ],
   "source": [
    "all_vendors.value_counts()"
   ]
  },
  {
   "cell_type": "code",
   "execution_count": 104,
   "metadata": {},
   "outputs": [
    {
     "data": {
      "text/html": [
       "<div>\n",
       "<style scoped>\n",
       "    .dataframe tbody tr th:only-of-type {\n",
       "        vertical-align: middle;\n",
       "    }\n",
       "\n",
       "    .dataframe tbody tr th {\n",
       "        vertical-align: top;\n",
       "    }\n",
       "\n",
       "    .dataframe thead th {\n",
       "        text-align: right;\n",
       "    }\n",
       "</style>\n",
       "<table border=\"1\" class=\"dataframe\">\n",
       "  <thead>\n",
       "    <tr style=\"text-align: right;\">\n",
       "      <th></th>\n",
       "      <th>index</th>\n",
       "      <th>bssid</th>\n",
       "    </tr>\n",
       "  </thead>\n",
       "  <tbody>\n",
       "    <tr>\n",
       "      <th>0</th>\n",
       "      <td>10:8C:CF</td>\n",
       "      <td>92</td>\n",
       "    </tr>\n",
       "    <tr>\n",
       "      <th>1</th>\n",
       "      <td>E8:04:62</td>\n",
       "      <td>32</td>\n",
       "    </tr>\n",
       "    <tr>\n",
       "      <th>2</th>\n",
       "      <td>A0:CF:5B</td>\n",
       "      <td>23</td>\n",
       "    </tr>\n",
       "    <tr>\n",
       "      <th>3</th>\n",
       "      <td>58:BC:27</td>\n",
       "      <td>15</td>\n",
       "    </tr>\n",
       "    <tr>\n",
       "      <th>4</th>\n",
       "      <td>40:F4:EC</td>\n",
       "      <td>12</td>\n",
       "    </tr>\n",
       "    <tr>\n",
       "      <th>5</th>\n",
       "      <td>00:1C:F9</td>\n",
       "      <td>8</td>\n",
       "    </tr>\n",
       "    <tr>\n",
       "      <th>6</th>\n",
       "      <td>00:1C:0E</td>\n",
       "      <td>8</td>\n",
       "    </tr>\n",
       "    <tr>\n",
       "      <th>7</th>\n",
       "      <td>6C:FA:89</td>\n",
       "      <td>8</td>\n",
       "    </tr>\n",
       "    <tr>\n",
       "      <th>8</th>\n",
       "      <td>00:23:AB</td>\n",
       "      <td>8</td>\n",
       "    </tr>\n",
       "    <tr>\n",
       "      <th>9</th>\n",
       "      <td>B0:00:B4</td>\n",
       "      <td>6</td>\n",
       "    </tr>\n",
       "    <tr>\n",
       "      <th>10</th>\n",
       "      <td>88:75:56</td>\n",
       "      <td>4</td>\n",
       "    </tr>\n",
       "    <tr>\n",
       "      <th>11</th>\n",
       "      <td>54:4A:00</td>\n",
       "      <td>4</td>\n",
       "    </tr>\n",
       "    <tr>\n",
       "      <th>12</th>\n",
       "      <td>DC:7B:94</td>\n",
       "      <td>4</td>\n",
       "    </tr>\n",
       "    <tr>\n",
       "      <th>13</th>\n",
       "      <td>44:E4:D9</td>\n",
       "      <td>4</td>\n",
       "    </tr>\n",
       "    <tr>\n",
       "      <th>14</th>\n",
       "      <td>18:EF:63</td>\n",
       "      <td>1</td>\n",
       "    </tr>\n",
       "    <tr>\n",
       "      <th>15</th>\n",
       "      <td>00:24:14</td>\n",
       "      <td>1</td>\n",
       "    </tr>\n",
       "  </tbody>\n",
       "</table>\n",
       "</div>"
      ],
      "text/plain": [
       "       index  bssid\n",
       "0   10:8C:CF     92\n",
       "1   E8:04:62     32\n",
       "2   A0:CF:5B     23\n",
       "3   58:BC:27     15\n",
       "4   40:F4:EC     12\n",
       "5   00:1C:F9      8\n",
       "6   00:1C:0E      8\n",
       "7   6C:FA:89      8\n",
       "8   00:23:AB      8\n",
       "9   B0:00:B4      6\n",
       "10  88:75:56      4\n",
       "11  54:4A:00      4\n",
       "12  DC:7B:94      4\n",
       "13  44:E4:D9      4\n",
       "14  18:EF:63      1\n",
       "15  00:24:14      1"
      ]
     },
     "execution_count": 104,
     "metadata": {},
     "output_type": "execute_result"
    }
   ],
   "source": [
    "all_vendors.value_counts().reset_index()"
   ]
  },
  {
   "cell_type": "code",
   "execution_count": 105,
   "metadata": {},
   "outputs": [
    {
     "data": {
      "text/html": [
       "<div>\n",
       "<style scoped>\n",
       "    .dataframe tbody tr th:only-of-type {\n",
       "        vertical-align: middle;\n",
       "    }\n",
       "\n",
       "    .dataframe tbody tr th {\n",
       "        vertical-align: top;\n",
       "    }\n",
       "\n",
       "    .dataframe thead th {\n",
       "        text-align: right;\n",
       "    }\n",
       "</style>\n",
       "<table border=\"1\" class=\"dataframe\">\n",
       "  <thead>\n",
       "    <tr style=\"text-align: right;\">\n",
       "      <th></th>\n",
       "      <th>index</th>\n",
       "      <th>bssid</th>\n",
       "      <th>manufacturer</th>\n",
       "    </tr>\n",
       "  </thead>\n",
       "  <tbody>\n",
       "    <tr>\n",
       "      <th>0</th>\n",
       "      <td>10:8C:CF</td>\n",
       "      <td>92</td>\n",
       "      <td>Cisco Systems, Inc</td>\n",
       "    </tr>\n",
       "    <tr>\n",
       "      <th>1</th>\n",
       "      <td>E8:04:62</td>\n",
       "      <td>32</td>\n",
       "      <td>Cisco Systems, Inc</td>\n",
       "    </tr>\n",
       "    <tr>\n",
       "      <th>2</th>\n",
       "      <td>A0:CF:5B</td>\n",
       "      <td>23</td>\n",
       "      <td>Cisco Systems, Inc</td>\n",
       "    </tr>\n",
       "    <tr>\n",
       "      <th>3</th>\n",
       "      <td>58:BC:27</td>\n",
       "      <td>15</td>\n",
       "      <td>Cisco Systems, Inc</td>\n",
       "    </tr>\n",
       "    <tr>\n",
       "      <th>4</th>\n",
       "      <td>40:F4:EC</td>\n",
       "      <td>12</td>\n",
       "      <td>Cisco Systems, Inc</td>\n",
       "    </tr>\n",
       "    <tr>\n",
       "      <th>5</th>\n",
       "      <td>00:1C:F9</td>\n",
       "      <td>8</td>\n",
       "      <td>Cisco Systems, Inc</td>\n",
       "    </tr>\n",
       "    <tr>\n",
       "      <th>6</th>\n",
       "      <td>00:1C:0E</td>\n",
       "      <td>8</td>\n",
       "      <td>Cisco Systems, Inc</td>\n",
       "    </tr>\n",
       "    <tr>\n",
       "      <th>7</th>\n",
       "      <td>6C:FA:89</td>\n",
       "      <td>8</td>\n",
       "      <td>Cisco Systems, Inc</td>\n",
       "    </tr>\n",
       "    <tr>\n",
       "      <th>8</th>\n",
       "      <td>00:23:AB</td>\n",
       "      <td>8</td>\n",
       "      <td>Cisco Systems, Inc</td>\n",
       "    </tr>\n",
       "    <tr>\n",
       "      <th>9</th>\n",
       "      <td>B0:00:B4</td>\n",
       "      <td>6</td>\n",
       "      <td>Cisco Systems, Inc</td>\n",
       "    </tr>\n",
       "    <tr>\n",
       "      <th>10</th>\n",
       "      <td>88:75:56</td>\n",
       "      <td>4</td>\n",
       "      <td>Cisco Systems, Inc</td>\n",
       "    </tr>\n",
       "    <tr>\n",
       "      <th>11</th>\n",
       "      <td>54:4A:00</td>\n",
       "      <td>4</td>\n",
       "      <td>Cisco Systems, Inc</td>\n",
       "    </tr>\n",
       "    <tr>\n",
       "      <th>12</th>\n",
       "      <td>DC:7B:94</td>\n",
       "      <td>4</td>\n",
       "      <td>Cisco Systems, Inc</td>\n",
       "    </tr>\n",
       "    <tr>\n",
       "      <th>13</th>\n",
       "      <td>44:E4:D9</td>\n",
       "      <td>4</td>\n",
       "      <td>Cisco Systems, Inc</td>\n",
       "    </tr>\n",
       "    <tr>\n",
       "      <th>14</th>\n",
       "      <td>18:EF:63</td>\n",
       "      <td>1</td>\n",
       "      <td>Cisco Systems, Inc</td>\n",
       "    </tr>\n",
       "    <tr>\n",
       "      <th>15</th>\n",
       "      <td>00:24:14</td>\n",
       "      <td>1</td>\n",
       "      <td>Cisco Systems, Inc</td>\n",
       "    </tr>\n",
       "  </tbody>\n",
       "</table>\n",
       "</div>"
      ],
      "text/plain": [
       "       index  bssid        manufacturer\n",
       "0   10:8C:CF     92  Cisco Systems, Inc\n",
       "1   E8:04:62     32  Cisco Systems, Inc\n",
       "2   A0:CF:5B     23  Cisco Systems, Inc\n",
       "3   58:BC:27     15  Cisco Systems, Inc\n",
       "4   40:F4:EC     12  Cisco Systems, Inc\n",
       "5   00:1C:F9      8  Cisco Systems, Inc\n",
       "6   00:1C:0E      8  Cisco Systems, Inc\n",
       "7   6C:FA:89      8  Cisco Systems, Inc\n",
       "8   00:23:AB      8  Cisco Systems, Inc\n",
       "9   B0:00:B4      6  Cisco Systems, Inc\n",
       "10  88:75:56      4  Cisco Systems, Inc\n",
       "11  54:4A:00      4  Cisco Systems, Inc\n",
       "12  DC:7B:94      4  Cisco Systems, Inc\n",
       "13  44:E4:D9      4  Cisco Systems, Inc\n",
       "14  18:EF:63      1  Cisco Systems, Inc\n",
       "15  00:24:14      1  Cisco Systems, Inc"
      ]
     },
     "execution_count": 105,
     "metadata": {},
     "output_type": "execute_result"
    }
   ],
   "source": [
    "tempdf = all_vendors.value_counts().reset_index()\n",
    "\n",
    "tempdf[\"manufacturer\"] = tempdf['index'].apply(lambda x: manufac(x))\n",
    "\n",
    "tempdf"
   ]
  },
  {
   "cell_type": "code",
   "execution_count": 106,
   "metadata": {},
   "outputs": [
    {
     "data": {
      "text/plain": [
       "Cisco Systems, Inc    16\n",
       "Name: manufacturer, dtype: int64"
      ]
     },
     "execution_count": 106,
     "metadata": {},
     "output_type": "execute_result"
    }
   ],
   "source": [
    "tempdf.manufacturer.value_counts()"
   ]
  },
  {
   "cell_type": "markdown",
   "metadata": {},
   "source": [
    "### How is the security posture of the bloomuXXX network?"
   ]
  },
  {
   "cell_type": "code",
   "execution_count": 118,
   "metadata": {},
   "outputs": [
    {
     "name": "stdout",
     "output_type": "stream",
     "text": [
      "Any NaNs?  False\n",
      "Unique Set?  ['WPA2' 'OPN ' 'WPA2OPN ']\n",
      "<class 'pandas.core.series.Series'>\n",
      "essid          privacy \n",
      "bloomu         WPA2        50\n",
      "               WPA2OPN     12\n",
      "bloomu-open    OPN         57\n",
      "bloomu-psk     WPA2        53\n",
      "bloomu-secure  WPA2        57\n",
      "               WPA2OPN      1\n",
      "Name: privacy, dtype: int64\n"
     ]
    }
   ],
   "source": [
    "bloomu_df = ap_df[ap_df.essid.str.startswith('bloomu')]\n",
    "\n",
    "# print(bloomu_df)\n",
    "\n",
    "print ('Any NaNs? ' , bloomu_df.privacy.hasnans)\n",
    "\n",
    "# print ('Unique Set? ', set(bloomu_df.privacy))\n",
    "print ('Unique Set? ', bloomu_df.privacy.unique())\n",
    "\n",
    "get_details = bloomu_df.groupby(['essid', 'privacy'])['privacy'].count()\n",
    "\n",
    "print(type(get_details))\n",
    "print(get_details)\n",
    "temp_df = get_details.unstack('privacy').fillna(0)"
   ]
  },
  {
   "cell_type": "code",
   "execution_count": null,
   "metadata": {},
   "outputs": [],
   "source": [
    "temp_df.plot(kind='barh', stacked=True, figsize=(20,8))"
   ]
  },
  {
   "cell_type": "markdown",
   "metadata": {},
   "source": [
    "### Which APs of bloomuXXX is closest to us? "
   ]
  },
  {
   "cell_type": "code",
   "execution_count": null,
   "metadata": {},
   "outputs": [],
   "source": [
    "# Check for anomalies in the power values\n",
    "\n",
    "bloomu_df[bloomu_df.dbpower == -1]"
   ]
  },
  {
   "cell_type": "code",
   "execution_count": null,
   "metadata": {},
   "outputs": [],
   "source": [
    "bloomu_df.sort_values(['dbpower'], ascending=False).head(3)"
   ]
  },
  {
   "cell_type": "code",
   "execution_count": null,
   "metadata": {},
   "outputs": [],
   "source": [
    "bloomu_df.sort_values(['dbpower'], ascending=False).head(20).reset_index(drop=True).plot(\n",
    "    x='bssid', \n",
    "    y='dbpower', \n",
    "    kind='barh',\n",
    "    figsize=(10,10),\n",
    ").legend(bbox_to_anchor=(1, 1.1))"
   ]
  },
  {
   "cell_type": "code",
   "execution_count": null,
   "metadata": {},
   "outputs": [],
   "source": [
    "# The scale in the above figure is not representative of the power level difference as it\n",
    "# wrongly assumes that the scale is linear\n",
    "\n",
    "dbm = bloomu_df.sort_values(\n",
    "    ['dbpower'], \n",
    "    ascending=False).head(20).reset_index(drop=True)[['bssid', 'dbpower']]\n",
    "\n",
    "def db2val(dbval):\n",
    "    return 10.**(dbval/20.)\n",
    "    \n",
    "\n",
    "dbm['dbpower2mag'] = dbm.dbpower.apply(db2val)\n",
    "\n",
    "dbm.plot(\n",
    "    x='bssid', \n",
    "    y='dbpower2mag', \n",
    "    kind='barh',\n",
    ").legend(bbox_to_anchor=(1, 1.1))"
   ]
  },
  {
   "cell_type": "markdown",
   "metadata": {},
   "source": [
    "### Plotting bloomuXXX APs as they were discovered"
   ]
  },
  {
   "cell_type": "code",
   "execution_count": null,
   "metadata": {},
   "outputs": [],
   "source": [
    "bloomu_df.dtypes"
   ]
  },
  {
   "cell_type": "code",
   "execution_count": null,
   "metadata": {},
   "outputs": [],
   "source": [
    "discovered = bloomu_df[['bssid', 'firstseen']].sort_values('firstseen').reset_index(drop=True)\n",
    "\n",
    "discovered.head(15)"
   ]
  },
  {
   "cell_type": "code",
   "execution_count": null,
   "metadata": {},
   "outputs": [],
   "source": [
    "discovered['timeoffset'] = (discovered.firstseen - discovered.firstseen.loc[0])/np.timedelta64(1, 's')"
   ]
  },
  {
   "cell_type": "code",
   "execution_count": null,
   "metadata": {},
   "outputs": [],
   "source": [
    "discovered.head(15)"
   ]
  },
  {
   "cell_type": "code",
   "execution_count": null,
   "metadata": {},
   "outputs": [],
   "source": [
    "discovered.tail(15)"
   ]
  },
  {
   "cell_type": "code",
   "execution_count": null,
   "metadata": {},
   "outputs": [],
   "source": [
    "discovered.dtypes"
   ]
  },
  {
   "cell_type": "code",
   "execution_count": null,
   "metadata": {},
   "outputs": [],
   "source": [
    "discovered.boxplot(column=['timeoffset'], return_type='axes')"
   ]
  },
  {
   "cell_type": "code",
   "execution_count": null,
   "metadata": {},
   "outputs": [],
   "source": [
    "discovered.timeoffset.hist()"
   ]
  },
  {
   "cell_type": "code",
   "execution_count": null,
   "metadata": {},
   "outputs": [],
   "source": [
    "# Let's look at this in minutes \n",
    "\n",
    "(discovered.timeoffset/60).hist()"
   ]
  },
  {
   "cell_type": "code",
   "execution_count": null,
   "metadata": {},
   "outputs": [],
   "source": [
    "(discovered.timeoffset/60).hist(bins=25)"
   ]
  },
  {
   "cell_type": "markdown",
   "metadata": {},
   "source": [
    "## Client Analysis\n",
    "\n",
    "Let us now begin analyzing clients"
   ]
  },
  {
   "cell_type": "code",
   "execution_count": null,
   "metadata": {},
   "outputs": [],
   "source": [
    "client_df.head(1)"
   ]
  },
  {
   "cell_type": "code",
   "execution_count": null,
   "metadata": {},
   "outputs": [],
   "source": [
    "client_df.columns = ['clientmac', 'firstseen', 'lastseen', 'power', 'numpkts', 'bssid', 'probedssids']\n",
    "\n",
    "client_df.head(1)"
   ]
  },
  {
   "cell_type": "code",
   "execution_count": null,
   "metadata": {},
   "outputs": [],
   "source": [
    "client_df.bssid.head(10)"
   ]
  },
  {
   "cell_type": "code",
   "execution_count": null,
   "metadata": {},
   "outputs": [],
   "source": [
    "client_df['bssid'] = client_df.bssid.str.replace(',', '')\n",
    "\n",
    "client_df.bssid.head(10)"
   ]
  },
  {
   "cell_type": "markdown",
   "metadata": {},
   "source": [
    "### What is the unique list of Probed SSIDs by all clients (Roaming + Connected) ?"
   ]
  },
  {
   "cell_type": "code",
   "execution_count": null,
   "metadata": {},
   "outputs": [],
   "source": [
    "all_probed_ssids_list = []\n",
    "\n",
    "def createprobedlist(x) :\n",
    "    if x:\n",
    "        all_probed_ssids_list.extend(x.strip().split(','))\n",
    "        \n",
    "client_df.probedssids.apply(createprobedlist)\n",
    "\n",
    "all_probed_ssids_list"
   ]
  },
  {
   "cell_type": "code",
   "execution_count": null,
   "metadata": {},
   "outputs": [],
   "source": [
    "set(all_probed_ssids_list)"
   ]
  },
  {
   "cell_type": "markdown",
   "metadata": {},
   "source": [
    "### Which is the most probed SSID across all clients?"
   ]
  },
  {
   "cell_type": "markdown",
   "metadata": {},
   "source": [
    "Lets do some juggling first! :)"
   ]
  },
  {
   "cell_type": "code",
   "execution_count": null,
   "metadata": {},
   "outputs": [],
   "source": [
    "templist = []\n",
    "\n",
    "def ProbedssidClientmac(row) :\n",
    "    if row.probedssids:\n",
    "        for pssid in row.probedssids.strip().split(',') :\n",
    "            templist.append([row.clientmac, pssid])\n",
    "\n",
    "client_df.apply(ProbedssidClientmac, axis=1)\n",
    "\n",
    "templist"
   ]
  },
  {
   "cell_type": "code",
   "execution_count": null,
   "metadata": {},
   "outputs": [],
   "source": [
    "newdf = pd.DataFrame(templist)\n",
    "\n",
    "newdf.head(3)"
   ]
  },
  {
   "cell_type": "code",
   "execution_count": null,
   "metadata": {},
   "outputs": [],
   "source": [
    "newdf.columns = ['clientmac', 'pssid']\n",
    "\n",
    "newdf.head(1)"
   ]
  },
  {
   "cell_type": "code",
   "execution_count": null,
   "metadata": {},
   "outputs": [],
   "source": [
    "newdf.pssid.value_counts().head(10)"
   ]
  },
  {
   "cell_type": "code",
   "execution_count": null,
   "metadata": {},
   "outputs": [],
   "source": [
    "newdf.pssid.value_counts().head(10).plot(kind='bar')"
   ]
  },
  {
   "cell_type": "markdown",
   "metadata": {},
   "source": [
    "### Which client has the longest list of Probed SSIDs?"
   ]
  },
  {
   "cell_type": "code",
   "execution_count": null,
   "metadata": {},
   "outputs": [],
   "source": [
    "newdf.clientmac.value_counts().head(8)"
   ]
  },
  {
   "cell_type": "code",
   "execution_count": null,
   "metadata": {},
   "outputs": [],
   "source": [
    "newdf[newdf['clientmac'] == 'D8:D1:CB:3B:B6:CA']"
   ]
  },
  {
   "cell_type": "code",
   "execution_count": null,
   "metadata": {},
   "outputs": [],
   "source": [
    "netaddr.OUI('D8:D1:CB'.replace(':', '-')).registration().org"
   ]
  },
  {
   "cell_type": "markdown",
   "metadata": {},
   "source": [
    "### Number of Clients connect to an AP vs roaming?"
   ]
  },
  {
   "cell_type": "code",
   "execution_count": null,
   "metadata": {},
   "outputs": [],
   "source": [
    "client_df.count()"
   ]
  },
  {
   "cell_type": "code",
   "execution_count": null,
   "metadata": {},
   "outputs": [],
   "source": [
    "client_df.bssid.str.contains('not associated').value_counts()"
   ]
  },
  {
   "cell_type": "markdown",
   "metadata": {},
   "source": [
    "### Distribution of APs and connected Clients?"
   ]
  },
  {
   "cell_type": "code",
   "execution_count": null,
   "metadata": {},
   "outputs": [],
   "source": [
    "client_df.head(10)"
   ]
  },
  {
   "cell_type": "code",
   "execution_count": null,
   "metadata": {},
   "outputs": [],
   "source": [
    "connected_clients = client_df[client_df.bssid.str.find('not associated') == -1].reset_index()"
   ]
  },
  {
   "cell_type": "code",
   "execution_count": null,
   "metadata": {},
   "outputs": [],
   "source": [
    "connected_clients.head(10)"
   ]
  },
  {
   "cell_type": "code",
   "execution_count": null,
   "metadata": {},
   "outputs": [],
   "source": [
    "connected_client_sample = connected_clients.head(10)"
   ]
  },
  {
   "cell_type": "code",
   "execution_count": null,
   "metadata": {},
   "outputs": [],
   "source": [
    "connected_client_sample"
   ]
  },
  {
   "cell_type": "code",
   "execution_count": null,
   "metadata": {},
   "outputs": [],
   "source": [
    "ap_df.head(1)"
   ]
  },
  {
   "cell_type": "code",
   "execution_count": null,
   "metadata": {},
   "outputs": [],
   "source": [
    "ap_essid_bssid = ap_df[['bssid', 'essid']]\n",
    "\n",
    "ap_essid_bssid.head(5)"
   ]
  },
  {
   "cell_type": "code",
   "execution_count": null,
   "metadata": {},
   "outputs": [],
   "source": [
    "datamerge = pd.merge(connected_client_sample, ap_essid_bssid, on='bssid')\n",
    "\n",
    "datamerge"
   ]
  },
  {
   "cell_type": "code",
   "execution_count": null,
   "metadata": {},
   "outputs": [],
   "source": [
    "ap_df[ap_df.bssid == 'B0:00:B4:21:B2:5B'].essid.iloc[0]"
   ]
  },
  {
   "cell_type": "code",
   "execution_count": null,
   "metadata": {},
   "outputs": [],
   "source": [
    "# Verifying our merge operation \n",
    "\n",
    "def verify(sample, debug) :\n",
    "    for index, row in sample.iterrows():\n",
    "        if row.essid != ap_df[ap_df.bssid == row.bssid].essid.iloc[0]:\n",
    "            print \"MISMATCH\"\n",
    "        else :\n",
    "            if debug :\n",
    "                print index, row.bssid, row.essid, ap_df[ap_df.bssid == row.bssid].essid.iloc[0]\n",
    "        \n",
    "verify(datamerge, True)"
   ]
  },
  {
   "cell_type": "code",
   "execution_count": null,
   "metadata": {},
   "outputs": [],
   "source": [
    "merged_data = pd.merge(connected_clients, ap_essid_bssid, on='bssid')"
   ]
  },
  {
   "cell_type": "code",
   "execution_count": null,
   "metadata": {},
   "outputs": [],
   "source": [
    "merged_data.groupby('essid')['clientmac'].count()"
   ]
  },
  {
   "cell_type": "code",
   "execution_count": null,
   "metadata": {},
   "outputs": [],
   "source": [
    "merged_data.groupby('essid')['clientmac'].count().plot(kind='barh')"
   ]
  },
  {
   "cell_type": "markdown",
   "metadata": {},
   "source": [
    "## Hope you enjoyed this Notebook! \n",
    "### For more infosec fun check out:  http://pentesteracademy.com/topics"
   ]
  },
  {
   "cell_type": "code",
   "execution_count": null,
   "metadata": {},
   "outputs": [],
   "source": []
  }
 ],
 "metadata": {
  "anaconda-cloud": {},
  "kernelspec": {
   "display_name": "Python 3",
   "language": "python",
   "name": "python3"
  },
  "language_info": {
   "codemirror_mode": {
    "name": "ipython",
    "version": 3
   },
   "file_extension": ".py",
   "mimetype": "text/x-python",
   "name": "python",
   "nbconvert_exporter": "python",
   "pygments_lexer": "ipython3",
   "version": "3.8.2"
  }
 },
 "nbformat": 4,
 "nbformat_minor": 1
}
