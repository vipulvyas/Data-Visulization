{
 "cells": [
  {
   "cell_type": "markdown",
   "metadata": {},
   "source": [
    "# Pandas Series:  Operations"
   ]
  },
  {
   "cell_type": "code",
   "execution_count": 2,
   "metadata": {},
   "outputs": [
    {
     "data": {
      "text/plain": [
       "u'0.17.1'"
      ]
     },
     "execution_count": 2,
     "metadata": {},
     "output_type": "execute_result"
    }
   ],
   "source": [
    "import numpy as np\n",
    "import string\n",
    "import pandas as pd\n",
    "\n",
    "pd.__version__"
   ]
  },
  {
   "cell_type": "markdown",
   "metadata": {},
   "source": [
    "#### Create a list of indexes using the first 10 alphabets"
   ]
  },
  {
   "cell_type": "code",
   "execution_count": 5,
   "metadata": {},
   "outputs": [
    {
     "name": "stdout",
     "output_type": "stream",
     "text": [
      "abcdefghijklmnopqrstuvwxyz\n",
      "['a', 'b', 'c', 'd', 'e', 'f', 'g', 'h', 'i', 'j']\n"
     ]
    }
   ],
   "source": [
    "print string.lowercase\n",
    "\n",
    "index = list(string.lowercase[:10])\n",
    "\n",
    "print index"
   ]
  },
  {
   "cell_type": "markdown",
   "metadata": {},
   "source": [
    "#### Create 2 Series' with random numbers in them"
   ]
  },
  {
   "cell_type": "code",
   "execution_count": 6,
   "metadata": {},
   "outputs": [
    {
     "data": {
      "text/plain": [
       "a    32\n",
       "b    53\n",
       "c    73\n",
       "d    40\n",
       "e    24\n",
       "f    49\n",
       "g    16\n",
       "h    47\n",
       "i    23\n",
       "j    49\n",
       "dtype: int32"
      ]
     },
     "execution_count": 6,
     "metadata": {},
     "output_type": "execute_result"
    }
   ],
   "source": [
    "s1 = pd.Series(np.random.randint(1,100, 10), index=index)\n",
    "\n",
    "s1"
   ]
  },
  {
   "cell_type": "code",
   "execution_count": 7,
   "metadata": {},
   "outputs": [
    {
     "data": {
      "text/plain": [
       "a    20\n",
       "b    15\n",
       "c    64\n",
       "d    37\n",
       "e    21\n",
       "f    87\n",
       "g    19\n",
       "h    43\n",
       "i    89\n",
       "j    55\n",
       "dtype: int32"
      ]
     },
     "execution_count": 7,
     "metadata": {},
     "output_type": "execute_result"
    }
   ],
   "source": [
    "s2 = pd.Series(np.random.randint(1,100, 10), index=index)\n",
    "\n",
    "s2"
   ]
  },
  {
   "cell_type": "code",
   "execution_count": 8,
   "metadata": {
    "collapsed": true
   },
   "outputs": [],
   "source": [
    "# Our side by side function!\n",
    "\n",
    "# side_by_side function from Wes McKinney, author of Pandas\n",
    "\n",
    "def side_by_side(*objs, **kwds):\n",
    "    from pandas.core.common import adjoin\n",
    "    space = kwds.get('space', 4)\n",
    "    reprs = [repr(obj).split('\\n') for obj in objs]\n",
    "    print adjoin(space, *reprs)"
   ]
  },
  {
   "cell_type": "code",
   "execution_count": 9,
   "metadata": {},
   "outputs": [
    {
     "name": "stdout",
     "output_type": "stream",
     "text": [
      "a    32         a    20     \n",
      "b    53         b    15     \n",
      "c    73         c    64     \n",
      "d    40         d    37     \n",
      "e    24         e    21     \n",
      "f    49         f    87     \n",
      "g    16         g    19     \n",
      "h    47         h    43     \n",
      "i    23         i    89     \n",
      "j    49         j    55     \n",
      "dtype: int32    dtype: int32\n"
     ]
    }
   ],
   "source": [
    "side_by_side(s1,s2)"
   ]
  },
  {
   "cell_type": "code",
   "execution_count": 10,
   "metadata": {},
   "outputs": [
    {
     "name": "stdout",
     "output_type": "stream",
     "text": [
      "a    32         a    20         a     52    \n",
      "b    53         b    15         b     68    \n",
      "c    73         c    64         c    137    \n",
      "d    40         d    37         d     77    \n",
      "e    24         e    21         e     45    \n",
      "f    49         f    87         f    136    \n",
      "g    16         g    19         g     35    \n",
      "h    47         h    43         h     90    \n",
      "i    23         i    89         i    112    \n",
      "j    49         j    55         j    104    \n",
      "dtype: int32    dtype: int32    dtype: int32\n"
     ]
    }
   ],
   "source": [
    "side_by_side(s1, s2, s1 + s2)"
   ]
  },
  {
   "cell_type": "code",
   "execution_count": 11,
   "metadata": {},
   "outputs": [
    {
     "name": "stdout",
     "output_type": "stream",
     "text": [
      "a    32         a    20         a    12     \n",
      "b    53         b    15         b    38     \n",
      "c    73         c    64         c     9     \n",
      "d    40         d    37         d     3     \n",
      "e    24         e    21         e     3     \n",
      "f    49         f    87         f   -38     \n",
      "g    16         g    19         g    -3     \n",
      "h    47         h    43         h     4     \n",
      "i    23         i    89         i   -66     \n",
      "j    49         j    55         j    -6     \n",
      "dtype: int32    dtype: int32    dtype: int32\n"
     ]
    }
   ],
   "source": [
    "side_by_side(s1, s2, s1-s2)"
   ]
  },
  {
   "cell_type": "code",
   "execution_count": 12,
   "metadata": {},
   "outputs": [
    {
     "name": "stdout",
     "output_type": "stream",
     "text": [
      "a    32         a    20         a     640   \n",
      "b    53         b    15         b     795   \n",
      "c    73         c    64         c    4672   \n",
      "d    40         d    37         d    1480   \n",
      "e    24         e    21         e     504   \n",
      "f    49         f    87         f    4263   \n",
      "g    16         g    19         g     304   \n",
      "h    47         h    43         h    2021   \n",
      "i    23         i    89         i    2047   \n",
      "j    49         j    55         j    2695   \n",
      "dtype: int32    dtype: int32    dtype: int32\n"
     ]
    }
   ],
   "source": [
    "side_by_side(s1, s2, s1*s2)"
   ]
  },
  {
   "cell_type": "code",
   "execution_count": 13,
   "metadata": {},
   "outputs": [
    {
     "name": "stdout",
     "output_type": "stream",
     "text": [
      "a    32         a    20         a    1.600000 \n",
      "b    53         b    15         b    3.533333 \n",
      "c    73         c    64         c    1.140625 \n",
      "d    40         d    37         d    1.081081 \n",
      "e    24         e    21         e    1.142857 \n",
      "f    49         f    87         f    0.563218 \n",
      "g    16         g    19         g    0.842105 \n",
      "h    47         h    43         h    1.093023 \n",
      "i    23         i    89         i    0.258427 \n",
      "j    49         j    55         j    0.890909 \n",
      "dtype: int32    dtype: int32    dtype: float64\n"
     ]
    }
   ],
   "source": [
    "side_by_side(s1, s2, s1/s2)"
   ]
  },
  {
   "cell_type": "markdown",
   "metadata": {},
   "source": [
    "### NANs"
   ]
  },
  {
   "cell_type": "code",
   "execution_count": 14,
   "metadata": {},
   "outputs": [
    {
     "data": {
      "text/plain": [
       "a    10\n",
       "b   -14\n",
       "c    35\n",
       "dtype: int64"
      ]
     },
     "execution_count": 14,
     "metadata": {},
     "output_type": "execute_result"
    }
   ],
   "source": [
    "s3 = pd.Series({\n",
    "        'a' : 10,\n",
    "        'b' : -14,\n",
    "        'c' : 35\n",
    "    })\n",
    "\n",
    "s3"
   ]
  },
  {
   "cell_type": "code",
   "execution_count": 15,
   "metadata": {},
   "outputs": [
    {
     "data": {
      "text/plain": [
       "b    22\n",
       "c     2\n",
       "d   -14\n",
       "dtype: int64"
      ]
     },
     "execution_count": 15,
     "metadata": {},
     "output_type": "execute_result"
    }
   ],
   "source": [
    "s4 = pd.Series({\n",
    "        'b' : 22,\n",
    "        'c' : 2,\n",
    "        'd' : -14\n",
    "    })\n",
    "\n",
    "s4"
   ]
  },
  {
   "cell_type": "code",
   "execution_count": 16,
   "metadata": {},
   "outputs": [
    {
     "name": "stdout",
     "output_type": "stream",
     "text": [
      "a    10         b    22     \n",
      "b   -14         c     2     \n",
      "c    35         d   -14     \n",
      "dtype: int64    dtype: int64\n"
     ]
    }
   ],
   "source": [
    "side_by_side(s3,s4)"
   ]
  },
  {
   "cell_type": "code",
   "execution_count": 17,
   "metadata": {},
   "outputs": [
    {
     "name": "stdout",
     "output_type": "stream",
     "text": [
      "a    10         b    22         a   NaN       \n",
      "b   -14         c     2         b     8       \n",
      "c    35         d   -14         c    37       \n",
      "dtype: int64    dtype: int64    d   NaN       \n",
      "                                dtype: float64\n"
     ]
    }
   ],
   "source": [
    "side_by_side(s3, s4, s3+s4)"
   ]
  },
  {
   "cell_type": "code",
   "execution_count": 19,
   "metadata": {},
   "outputs": [
    {
     "name": "stdout",
     "output_type": "stream",
     "text": [
      "a    10         b    22         a   NaN       \n",
      "b   -14         c     2         b    36       \n",
      "c    35         d   -14         c   -33       \n",
      "dtype: int64    dtype: int64    d   NaN       \n",
      "                                dtype: float64\n"
     ]
    }
   ],
   "source": [
    "side_by_side(s3, s4, s4-s3)"
   ]
  },
  {
   "cell_type": "code",
   "execution_count": 20,
   "metadata": {},
   "outputs": [
    {
     "data": {
      "text/plain": [
       "a    NaN\n",
       "b   -308\n",
       "c     70\n",
       "d    NaN\n",
       "dtype: float64"
      ]
     },
     "execution_count": 20,
     "metadata": {},
     "output_type": "execute_result"
    }
   ],
   "source": [
    "s3*s4"
   ]
  },
  {
   "cell_type": "code",
   "execution_count": 21,
   "metadata": {},
   "outputs": [
    {
     "data": {
      "text/plain": [
       "a          NaN\n",
       "b    -0.636364\n",
       "c    17.500000\n",
       "d          NaN\n",
       "dtype: float64"
      ]
     },
     "execution_count": 21,
     "metadata": {},
     "output_type": "execute_result"
    }
   ],
   "source": [
    "s3/s4"
   ]
  },
  {
   "cell_type": "code",
   "execution_count": 22,
   "metadata": {},
   "outputs": [
    {
     "data": {
      "text/plain": [
       "a   NaN\n",
       "b     8\n",
       "c    37\n",
       "d   NaN\n",
       "dtype: float64"
      ]
     },
     "execution_count": 22,
     "metadata": {},
     "output_type": "execute_result"
    }
   ],
   "source": [
    "s5 = s3 + s4\n",
    "\n",
    "s5"
   ]
  },
  {
   "cell_type": "code",
   "execution_count": 24,
   "metadata": {},
   "outputs": [
    {
     "data": {
      "text/plain": [
       "(False, True)"
      ]
     },
     "execution_count": 24,
     "metadata": {},
     "output_type": "execute_result"
    }
   ],
   "source": [
    "s4.hasnans, s5.hasnans"
   ]
  },
  {
   "cell_type": "code",
   "execution_count": 25,
   "metadata": {},
   "outputs": [
    {
     "data": {
      "text/plain": [
       "a    -1\n",
       "b     8\n",
       "c    37\n",
       "d    -1\n",
       "dtype: float64"
      ]
     },
     "execution_count": 25,
     "metadata": {},
     "output_type": "execute_result"
    }
   ],
   "source": [
    "s5.fillna(-1) "
   ]
  },
  {
   "cell_type": "code",
   "execution_count": 26,
   "metadata": {},
   "outputs": [
    {
     "data": {
      "text/plain": [
       "b     8\n",
       "c    37\n",
       "dtype: float64"
      ]
     },
     "execution_count": 26,
     "metadata": {},
     "output_type": "execute_result"
    }
   ],
   "source": [
    "s5.dropna()"
   ]
  },
  {
   "cell_type": "code",
   "execution_count": 28,
   "metadata": {},
   "outputs": [
    {
     "name": "stdout",
     "output_type": "stream",
     "text": [
      "a   NaN\n",
      "b     8\n",
      "c    37\n",
      "d   NaN\n",
      "dtype: float64\n"
     ]
    },
    {
     "data": {
      "text/plain": [
       "a   NaN\n",
       "b     8\n",
       "c    37\n",
       "d    37\n",
       "dtype: float64"
      ]
     },
     "execution_count": 28,
     "metadata": {},
     "output_type": "execute_result"
    }
   ],
   "source": [
    "print s5 \n",
    "\n",
    "s5.ffill()"
   ]
  },
  {
   "cell_type": "code",
   "execution_count": 29,
   "metadata": {},
   "outputs": [
    {
     "data": {
      "text/plain": [
       "a   NaN\n",
       "b     8\n",
       "c    37\n",
       "d   NaN\n",
       "dtype: float64"
      ]
     },
     "execution_count": 29,
     "metadata": {},
     "output_type": "execute_result"
    }
   ],
   "source": [
    "s5"
   ]
  },
  {
   "cell_type": "code",
   "execution_count": 30,
   "metadata": {},
   "outputs": [
    {
     "data": {
      "text/plain": [
       "a    False\n",
       "b     True\n",
       "c     True\n",
       "d    False\n",
       "dtype: bool"
      ]
     },
     "execution_count": 30,
     "metadata": {},
     "output_type": "execute_result"
    }
   ],
   "source": [
    "s5.notnull()"
   ]
  },
  {
   "cell_type": "code",
   "execution_count": 31,
   "metadata": {},
   "outputs": [
    {
     "name": "stdout",
     "output_type": "stream",
     "text": [
      "a   NaN           a    False     a     True \n",
      "b     8           b     True     b    False \n",
      "c    37           c     True     c    False \n",
      "d   NaN           d    False     d     True \n",
      "dtype: float64    dtype: bool    dtype: bool\n"
     ]
    }
   ],
   "source": [
    "side_by_side(s5, s5.notnull(), s5.isnull())"
   ]
  },
  {
   "cell_type": "code",
   "execution_count": null,
   "metadata": {
    "collapsed": true
   },
   "outputs": [],
   "source": []
  }
 ],
 "metadata": {
  "kernelspec": {
   "display_name": "Python 2",
   "language": "python",
   "name": "python2"
  },
  "language_info": {
   "codemirror_mode": {
    "name": "ipython",
    "version": 2
   },
   "file_extension": ".py",
   "mimetype": "text/x-python",
   "name": "python",
   "nbconvert_exporter": "python",
   "pygments_lexer": "ipython2",
   "version": "2.7.11"
  }
 },
 "nbformat": 4,
 "nbformat_minor": 1
}
