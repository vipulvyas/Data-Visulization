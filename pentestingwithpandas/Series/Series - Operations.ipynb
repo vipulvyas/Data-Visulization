{
 "cells": [
  {
   "cell_type": "markdown",
   "metadata": {},
   "source": [
    "# Pandas Series:  Operations"
   ]
  },
  {
   "cell_type": "code",
   "execution_count": 1,
   "metadata": {},
   "outputs": [
    {
     "data": {
      "text/plain": [
       "'0.25.3'"
      ]
     },
     "execution_count": 1,
     "metadata": {},
     "output_type": "execute_result"
    }
   ],
   "source": [
    "import numpy as np\n",
    "import string\n",
    "import pandas as pd\n",
    "\n",
    "pd.__version__"
   ]
  },
  {
   "cell_type": "markdown",
   "metadata": {},
   "source": [
    "#### Create a list of indexes using the first 10 alphabets"
   ]
  },
  {
   "cell_type": "code",
   "execution_count": 5,
   "metadata": {},
   "outputs": [
    {
     "name": "stdout",
     "output_type": "stream",
     "text": [
      "abcdefghijklmnopqrstuvwxyz\n",
      "['a', 'b', 'c', 'd', 'e', 'f', 'g', 'h', 'i', 'j']\n"
     ]
    }
   ],
   "source": [
    "print (string.ascii_lowercase)\n",
    "\n",
    "index = list(string.ascii_lowercase[:10])\n",
    "\n",
    "print (index)"
   ]
  },
  {
   "cell_type": "markdown",
   "metadata": {},
   "source": [
    "#### Create 2 Series' with random numbers in them"
   ]
  },
  {
   "cell_type": "code",
   "execution_count": 6,
   "metadata": {},
   "outputs": [
    {
     "data": {
      "text/plain": [
       "a    20\n",
       "b    26\n",
       "c    51\n",
       "d    92\n",
       "e    10\n",
       "f    72\n",
       "g     7\n",
       "h    91\n",
       "i    20\n",
       "j    96\n",
       "dtype: int64"
      ]
     },
     "execution_count": 6,
     "metadata": {},
     "output_type": "execute_result"
    }
   ],
   "source": [
    "s1 = pd.Series(np.random.randint(1,100, 10), index=index)\n",
    "\n",
    "s1"
   ]
  },
  {
   "cell_type": "code",
   "execution_count": 7,
   "metadata": {},
   "outputs": [
    {
     "data": {
      "text/plain": [
       "a    26\n",
       "b    80\n",
       "c    34\n",
       "d    65\n",
       "e    67\n",
       "f    57\n",
       "g    32\n",
       "h    53\n",
       "i    10\n",
       "j    20\n",
       "dtype: int64"
      ]
     },
     "execution_count": 7,
     "metadata": {},
     "output_type": "execute_result"
    }
   ],
   "source": [
    "s2 = pd.Series(np.random.randint(1,100, 10), index=index)\n",
    "\n",
    "s2"
   ]
  },
  {
   "cell_type": "code",
   "execution_count": 11,
   "metadata": {},
   "outputs": [],
   "source": [
    "# Our side by side function!\n",
    "\n",
    "# side_by_side function from Wes McKinney, author of Pandas\n",
    "\n",
    "def side_by_side(*objs, **kwds):\n",
    "    from pandas.io.formats.printing import adjoin\n",
    "    space = kwds.get('space', 4)\n",
    "    reprs = [repr(obj).split('\\n') for obj in objs]\n",
    "    print (adjoin(space, *reprs))"
   ]
  },
  {
   "cell_type": "code",
   "execution_count": 12,
   "metadata": {},
   "outputs": [
    {
     "name": "stdout",
     "output_type": "stream",
     "text": [
      "a    20         a    26     \n",
      "b    26         b    80     \n",
      "c    51         c    34     \n",
      "d    92         d    65     \n",
      "e    10         e    67     \n",
      "f    72         f    57     \n",
      "g     7         g    32     \n",
      "h    91         h    53     \n",
      "i    20         i    10     \n",
      "j    96         j    20     \n",
      "dtype: int64    dtype: int64\n"
     ]
    }
   ],
   "source": [
    "side_by_side(s1,s2)"
   ]
  },
  {
   "cell_type": "code",
   "execution_count": 13,
   "metadata": {},
   "outputs": [
    {
     "name": "stdout",
     "output_type": "stream",
     "text": [
      "a    20         a    26         a     46    \n",
      "b    26         b    80         b    106    \n",
      "c    51         c    34         c     85    \n",
      "d    92         d    65         d    157    \n",
      "e    10         e    67         e     77    \n",
      "f    72         f    57         f    129    \n",
      "g     7         g    32         g     39    \n",
      "h    91         h    53         h    144    \n",
      "i    20         i    10         i     30    \n",
      "j    96         j    20         j    116    \n",
      "dtype: int64    dtype: int64    dtype: int64\n"
     ]
    }
   ],
   "source": [
    "side_by_side(s1, s2, s1 + s2)"
   ]
  },
  {
   "cell_type": "code",
   "execution_count": 14,
   "metadata": {},
   "outputs": [
    {
     "name": "stdout",
     "output_type": "stream",
     "text": [
      "a    20         a    26         a    -6     \n",
      "b    26         b    80         b   -54     \n",
      "c    51         c    34         c    17     \n",
      "d    92         d    65         d    27     \n",
      "e    10         e    67         e   -57     \n",
      "f    72         f    57         f    15     \n",
      "g     7         g    32         g   -25     \n",
      "h    91         h    53         h    38     \n",
      "i    20         i    10         i    10     \n",
      "j    96         j    20         j    76     \n",
      "dtype: int64    dtype: int64    dtype: int64\n"
     ]
    }
   ],
   "source": [
    "side_by_side(s1, s2, s1-s2)"
   ]
  },
  {
   "cell_type": "code",
   "execution_count": 15,
   "metadata": {},
   "outputs": [
    {
     "name": "stdout",
     "output_type": "stream",
     "text": [
      "a    20         a    26         a     520   \n",
      "b    26         b    80         b    2080   \n",
      "c    51         c    34         c    1734   \n",
      "d    92         d    65         d    5980   \n",
      "e    10         e    67         e     670   \n",
      "f    72         f    57         f    4104   \n",
      "g     7         g    32         g     224   \n",
      "h    91         h    53         h    4823   \n",
      "i    20         i    10         i     200   \n",
      "j    96         j    20         j    1920   \n",
      "dtype: int64    dtype: int64    dtype: int64\n"
     ]
    }
   ],
   "source": [
    "side_by_side(s1, s2, s1*s2)"
   ]
  },
  {
   "cell_type": "code",
   "execution_count": 16,
   "metadata": {},
   "outputs": [
    {
     "name": "stdout",
     "output_type": "stream",
     "text": [
      "a    20         a    26         a    0.769231 \n",
      "b    26         b    80         b    0.325000 \n",
      "c    51         c    34         c    1.500000 \n",
      "d    92         d    65         d    1.415385 \n",
      "e    10         e    67         e    0.149254 \n",
      "f    72         f    57         f    1.263158 \n",
      "g     7         g    32         g    0.218750 \n",
      "h    91         h    53         h    1.716981 \n",
      "i    20         i    10         i    2.000000 \n",
      "j    96         j    20         j    4.800000 \n",
      "dtype: int64    dtype: int64    dtype: float64\n"
     ]
    }
   ],
   "source": [
    "side_by_side(s1, s2, s1/s2)"
   ]
  },
  {
   "cell_type": "markdown",
   "metadata": {},
   "source": [
    "### NANs"
   ]
  },
  {
   "cell_type": "code",
   "execution_count": 17,
   "metadata": {},
   "outputs": [
    {
     "data": {
      "text/plain": [
       "a    10\n",
       "b   -14\n",
       "c    35\n",
       "dtype: int64"
      ]
     },
     "execution_count": 17,
     "metadata": {},
     "output_type": "execute_result"
    }
   ],
   "source": [
    "s3 = pd.Series({\n",
    "        'a' : 10,\n",
    "        'b' : -14,\n",
    "        'c' : 35\n",
    "    })\n",
    "\n",
    "s3"
   ]
  },
  {
   "cell_type": "code",
   "execution_count": 18,
   "metadata": {},
   "outputs": [
    {
     "data": {
      "text/plain": [
       "b    22\n",
       "c     2\n",
       "d   -14\n",
       "dtype: int64"
      ]
     },
     "execution_count": 18,
     "metadata": {},
     "output_type": "execute_result"
    }
   ],
   "source": [
    "s4 = pd.Series({\n",
    "        'b' : 22,\n",
    "        'c' : 2,\n",
    "        'd' : -14\n",
    "    })\n",
    "\n",
    "s4"
   ]
  },
  {
   "cell_type": "code",
   "execution_count": 19,
   "metadata": {},
   "outputs": [
    {
     "name": "stdout",
     "output_type": "stream",
     "text": [
      "a    10         b    22     \n",
      "b   -14         c     2     \n",
      "c    35         d   -14     \n",
      "dtype: int64    dtype: int64\n"
     ]
    }
   ],
   "source": [
    "side_by_side(s3,s4)"
   ]
  },
  {
   "cell_type": "code",
   "execution_count": 20,
   "metadata": {},
   "outputs": [
    {
     "name": "stdout",
     "output_type": "stream",
     "text": [
      "a    10         b    22         a     NaN     \n",
      "b   -14         c     2         b     8.0     \n",
      "c    35         d   -14         c    37.0     \n",
      "dtype: int64    dtype: int64    d     NaN     \n",
      "                                dtype: float64\n"
     ]
    }
   ],
   "source": [
    "side_by_side(s3, s4, s3+s4)"
   ]
  },
  {
   "cell_type": "code",
   "execution_count": 21,
   "metadata": {},
   "outputs": [
    {
     "name": "stdout",
     "output_type": "stream",
     "text": [
      "a    10         b    22         a     NaN     \n",
      "b   -14         c     2         b    36.0     \n",
      "c    35         d   -14         c   -33.0     \n",
      "dtype: int64    dtype: int64    d     NaN     \n",
      "                                dtype: float64\n"
     ]
    }
   ],
   "source": [
    "side_by_side(s3, s4, s4-s3)"
   ]
  },
  {
   "cell_type": "code",
   "execution_count": 22,
   "metadata": {},
   "outputs": [
    {
     "data": {
      "text/plain": [
       "a      NaN\n",
       "b   -308.0\n",
       "c     70.0\n",
       "d      NaN\n",
       "dtype: float64"
      ]
     },
     "execution_count": 22,
     "metadata": {},
     "output_type": "execute_result"
    }
   ],
   "source": [
    "s3*s4"
   ]
  },
  {
   "cell_type": "code",
   "execution_count": 23,
   "metadata": {},
   "outputs": [
    {
     "data": {
      "text/plain": [
       "a          NaN\n",
       "b    -0.636364\n",
       "c    17.500000\n",
       "d          NaN\n",
       "dtype: float64"
      ]
     },
     "execution_count": 23,
     "metadata": {},
     "output_type": "execute_result"
    }
   ],
   "source": [
    "s3/s4"
   ]
  },
  {
   "cell_type": "code",
   "execution_count": 24,
   "metadata": {},
   "outputs": [
    {
     "data": {
      "text/plain": [
       "a     NaN\n",
       "b     8.0\n",
       "c    37.0\n",
       "d     NaN\n",
       "dtype: float64"
      ]
     },
     "execution_count": 24,
     "metadata": {},
     "output_type": "execute_result"
    }
   ],
   "source": [
    "s5 = s3 + s4\n",
    "\n",
    "s5"
   ]
  },
  {
   "cell_type": "code",
   "execution_count": 25,
   "metadata": {},
   "outputs": [
    {
     "data": {
      "text/plain": [
       "(False, True)"
      ]
     },
     "execution_count": 25,
     "metadata": {},
     "output_type": "execute_result"
    }
   ],
   "source": [
    "s4.hasnans, s5.hasnans"
   ]
  },
  {
   "cell_type": "code",
   "execution_count": 26,
   "metadata": {},
   "outputs": [
    {
     "data": {
      "text/plain": [
       "a    -1.0\n",
       "b     8.0\n",
       "c    37.0\n",
       "d    -1.0\n",
       "dtype: float64"
      ]
     },
     "execution_count": 26,
     "metadata": {},
     "output_type": "execute_result"
    }
   ],
   "source": [
    "s5.fillna(-1) "
   ]
  },
  {
   "cell_type": "code",
   "execution_count": 27,
   "metadata": {},
   "outputs": [
    {
     "data": {
      "text/plain": [
       "b     8.0\n",
       "c    37.0\n",
       "dtype: float64"
      ]
     },
     "execution_count": 27,
     "metadata": {},
     "output_type": "execute_result"
    }
   ],
   "source": [
    "s5.dropna()"
   ]
  },
  {
   "cell_type": "code",
   "execution_count": 30,
   "metadata": {},
   "outputs": [
    {
     "name": "stdout",
     "output_type": "stream",
     "text": [
      "a     NaN\n",
      "b     8.0\n",
      "c    37.0\n",
      "d     NaN\n",
      "dtype: float64\n"
     ]
    },
    {
     "data": {
      "text/plain": [
       "a     NaN\n",
       "b     8.0\n",
       "c    37.0\n",
       "d    37.0\n",
       "dtype: float64"
      ]
     },
     "execution_count": 30,
     "metadata": {},
     "output_type": "execute_result"
    }
   ],
   "source": [
    "print (s5) \n",
    "\n",
    "s5.ffill()   #forword fill"
   ]
  },
  {
   "cell_type": "code",
   "execution_count": 31,
   "metadata": {},
   "outputs": [
    {
     "data": {
      "text/plain": [
       "a     NaN\n",
       "b     8.0\n",
       "c    37.0\n",
       "d     NaN\n",
       "dtype: float64"
      ]
     },
     "execution_count": 31,
     "metadata": {},
     "output_type": "execute_result"
    }
   ],
   "source": [
    "s5"
   ]
  },
  {
   "cell_type": "code",
   "execution_count": 32,
   "metadata": {},
   "outputs": [
    {
     "data": {
      "text/plain": [
       "a    False\n",
       "b     True\n",
       "c     True\n",
       "d    False\n",
       "dtype: bool"
      ]
     },
     "execution_count": 32,
     "metadata": {},
     "output_type": "execute_result"
    }
   ],
   "source": [
    "s5.notnull()"
   ]
  },
  {
   "cell_type": "code",
   "execution_count": 33,
   "metadata": {},
   "outputs": [
    {
     "name": "stdout",
     "output_type": "stream",
     "text": [
      "a     NaN         a    False     a     True \n",
      "b     8.0         b     True     b    False \n",
      "c    37.0         c     True     c    False \n",
      "d     NaN         d    False     d     True \n",
      "dtype: float64    dtype: bool    dtype: bool\n"
     ]
    }
   ],
   "source": [
    "side_by_side(s5, s5.notnull(), s5.isnull())"
   ]
  },
  {
   "cell_type": "code",
   "execution_count": 34,
   "metadata": {},
   "outputs": [
    {
     "data": {
      "text/plain": [
       "b     8.0\n",
       "c    37.0\n",
       "dtype: float64"
      ]
     },
     "execution_count": 34,
     "metadata": {},
     "output_type": "execute_result"
    }
   ],
   "source": [
    "s5[s5.notnull()]"
   ]
  },
  {
   "cell_type": "code",
   "execution_count": null,
   "metadata": {},
   "outputs": [],
   "source": []
  }
 ],
 "metadata": {
  "kernelspec": {
   "display_name": "Python 2",
   "language": "python",
   "name": "python2"
  },
  "language_info": {
   "codemirror_mode": {
    "name": "ipython",
    "version": 3
   },
   "file_extension": ".py",
   "mimetype": "text/x-python",
   "name": "python",
   "nbconvert_exporter": "python",
   "pygments_lexer": "ipython3",
   "version": "3.8.2"
  }
 },
 "nbformat": 4,
 "nbformat_minor": 1
}
